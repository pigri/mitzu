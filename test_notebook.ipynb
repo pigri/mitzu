{
 "cells": [
  {
   "cell_type": "code",
   "execution_count": null,
   "id": "e946edaa",
   "metadata": {},
   "outputs": [],
   "source": [
    "from services.notebook.model_loader import ModelLoader\n",
    "import services.adapters.sqlite_adapter as sa\n",
    "from services.discovery.dataset_discovery import EventDatasetDiscovery\n",
    "from tests.samples.sources import SIMPLE_BIG_DATA, SIMPLE_CSV\n",
    "from datetime import datetime\n",
    "import services.notebook.visualization as vis\n",
    "import services.adapters.adapter_factory as af\n",
    "\n",
    "adapter = af.get_or_create_adapter(SIMPLE_BIG_DATA)\n",
    "discovery = EventDatasetDiscovery(\n",
    "    SIMPLE_BIG_DATA, adapter, datetime(2021, 1, 1), datetime(2022, 1, 1)\n",
    ")\n",
    "dd = discovery.discover_dataset()\n",
    "ml = ModelLoader()\n",
    "m = ml.create_dataset_model(dd)\n",
    "m._to_globals(globals())"
   ]
  },
  {
   "cell_type": "code",
   "execution_count": null,
   "id": "155b5726",
   "metadata": {},
   "outputs": [],
   "source": [
    "(app_install.country_code.is_not_null).segmentation(start_dt=\"2021-12-01\",end_da,time_group=\"day\")"
   ]
  },
  {
   "cell_type": "code",
   "execution_count": null,
   "id": "1466f22b",
   "metadata": {},
   "outputs": [],
   "source": []
  },
  {
   "cell_type": "code",
   "execution_count": null,
   "id": "72578837",
   "metadata": {},
   "outputs": [],
   "source": []
  },
  {
   "cell_type": "code",
   "execution_count": null,
   "id": "6c7eda25",
   "metadata": {},
   "outputs": [],
   "source": []
  }
 ],
 "metadata": {
  "kernelspec": {
   "display_name": "Python 3 (ipykernel)",
   "language": "python",
   "name": "python3"
  },
  "language_info": {
   "codemirror_mode": {
    "name": "ipython",
    "version": 3
   },
   "file_extension": ".py",
   "mimetype": "text/x-python",
   "name": "python",
   "nbconvert_exporter": "python",
   "pygments_lexer": "ipython3",
   "version": "3.9.8"
  }
 },
 "nbformat": 4,
 "nbformat_minor": 5
}
