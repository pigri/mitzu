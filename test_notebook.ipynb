{
 "cells": [
  {
   "cell_type": "code",
   "execution_count": 1,
   "id": "e946edaa",
   "metadata": {},
   "outputs": [],
   "source": [
    "from services.notebook.model_loader import ModelLoader\n",
    "import services.adapters.sqlite_adapter as sa\n",
    "from services.discovery.dataset_discovery import EventDatasetDiscovery\n",
    "from tests.samples.sources import SIMPLE_BIG_DATA, SIMPLE_CSV\n",
    "from datetime import datetime\n",
    "import services.notebook.visualization as vis\n",
    "import services.adapters.adapter_factory as af\n",
    "\n",
    "adapter = af.get_or_create_adapter(SIMPLE_CSV)\n",
    "discovery = EventDatasetDiscovery(\n",
    "    SIMPLE_CSV, adapter, datetime(2021, 1, 1), datetime(2022, 1, 1)\n",
    ")\n",
    "dd = discovery.discover_dataset()\n",
    "ml = ModelLoader()\n",
    "m = ml.create_dataset_model(dd)\n",
    "m._to_globals(globals())"
   ]
  },
  {
   "cell_type": "code",
   "execution_count": 2,
   "id": "1466f22b",
   "metadata": {},
   "outputs": [
    {
     "ename": "AttributeError",
     "evalue": "'Conversion' object has no attribute '_segment'",
     "output_type": "error",
     "traceback": [
      "\u001b[0;31m---------------------------------------------------------------------------\u001b[0m",
      "\u001b[0;31mAttributeError\u001b[0m                            Traceback (most recent call last)",
      "File \u001b[0;32m~/Personal/mitzu-io/mitzu/.venv/lib/python3.9/site-packages/IPython/core/formatters.py:707\u001b[0m, in \u001b[0;36mPlainTextFormatter.__call__\u001b[0;34m(self, obj)\u001b[0m\n\u001b[1;32m    700\u001b[0m stream \u001b[38;5;241m=\u001b[39m StringIO()\n\u001b[1;32m    701\u001b[0m printer \u001b[38;5;241m=\u001b[39m pretty\u001b[38;5;241m.\u001b[39mRepresentationPrinter(stream, \u001b[38;5;28mself\u001b[39m\u001b[38;5;241m.\u001b[39mverbose,\n\u001b[1;32m    702\u001b[0m     \u001b[38;5;28mself\u001b[39m\u001b[38;5;241m.\u001b[39mmax_width, \u001b[38;5;28mself\u001b[39m\u001b[38;5;241m.\u001b[39mnewline,\n\u001b[1;32m    703\u001b[0m     max_seq_length\u001b[38;5;241m=\u001b[39m\u001b[38;5;28mself\u001b[39m\u001b[38;5;241m.\u001b[39mmax_seq_length,\n\u001b[1;32m    704\u001b[0m     singleton_pprinters\u001b[38;5;241m=\u001b[39m\u001b[38;5;28mself\u001b[39m\u001b[38;5;241m.\u001b[39msingleton_printers,\n\u001b[1;32m    705\u001b[0m     type_pprinters\u001b[38;5;241m=\u001b[39m\u001b[38;5;28mself\u001b[39m\u001b[38;5;241m.\u001b[39mtype_printers,\n\u001b[1;32m    706\u001b[0m     deferred_pprinters\u001b[38;5;241m=\u001b[39m\u001b[38;5;28mself\u001b[39m\u001b[38;5;241m.\u001b[39mdeferred_printers)\n\u001b[0;32m--> 707\u001b[0m \u001b[43mprinter\u001b[49m\u001b[38;5;241;43m.\u001b[39;49m\u001b[43mpretty\u001b[49m\u001b[43m(\u001b[49m\u001b[43mobj\u001b[49m\u001b[43m)\u001b[49m\n\u001b[1;32m    708\u001b[0m printer\u001b[38;5;241m.\u001b[39mflush()\n\u001b[1;32m    709\u001b[0m \u001b[38;5;28;01mreturn\u001b[39;00m stream\u001b[38;5;241m.\u001b[39mgetvalue()\n",
      "File \u001b[0;32m~/Personal/mitzu-io/mitzu/.venv/lib/python3.9/site-packages/IPython/lib/pretty.py:410\u001b[0m, in \u001b[0;36mRepresentationPrinter.pretty\u001b[0;34m(self, obj)\u001b[0m\n\u001b[1;32m    407\u001b[0m                         \u001b[38;5;28;01mreturn\u001b[39;00m meth(obj, \u001b[38;5;28mself\u001b[39m, cycle)\n\u001b[1;32m    408\u001b[0m                 \u001b[38;5;28;01mif\u001b[39;00m \u001b[38;5;28mcls\u001b[39m \u001b[38;5;129;01mis\u001b[39;00m \u001b[38;5;129;01mnot\u001b[39;00m \u001b[38;5;28mobject\u001b[39m \\\n\u001b[1;32m    409\u001b[0m                         \u001b[38;5;129;01mand\u001b[39;00m callable(\u001b[38;5;28mcls\u001b[39m\u001b[38;5;241m.\u001b[39m\u001b[38;5;18m__dict__\u001b[39m\u001b[38;5;241m.\u001b[39mget(\u001b[38;5;124m'\u001b[39m\u001b[38;5;124m__repr__\u001b[39m\u001b[38;5;124m'\u001b[39m)):\n\u001b[0;32m--> 410\u001b[0m                     \u001b[38;5;28;01mreturn\u001b[39;00m \u001b[43m_repr_pprint\u001b[49m\u001b[43m(\u001b[49m\u001b[43mobj\u001b[49m\u001b[43m,\u001b[49m\u001b[43m \u001b[49m\u001b[38;5;28;43mself\u001b[39;49m\u001b[43m,\u001b[49m\u001b[43m \u001b[49m\u001b[43mcycle\u001b[49m\u001b[43m)\u001b[49m\n\u001b[1;32m    412\u001b[0m     \u001b[38;5;28;01mreturn\u001b[39;00m _default_pprint(obj, \u001b[38;5;28mself\u001b[39m, cycle)\n\u001b[1;32m    413\u001b[0m \u001b[38;5;28;01mfinally\u001b[39;00m:\n",
      "File \u001b[0;32m~/Personal/mitzu-io/mitzu/.venv/lib/python3.9/site-packages/IPython/lib/pretty.py:778\u001b[0m, in \u001b[0;36m_repr_pprint\u001b[0;34m(obj, p, cycle)\u001b[0m\n\u001b[1;32m    776\u001b[0m \u001b[38;5;124;03m\"\"\"A pprint that just redirects to the normal repr function.\"\"\"\u001b[39;00m\n\u001b[1;32m    777\u001b[0m \u001b[38;5;66;03m# Find newlines and replace them with p.break_()\u001b[39;00m\n\u001b[0;32m--> 778\u001b[0m output \u001b[38;5;241m=\u001b[39m \u001b[38;5;28;43mrepr\u001b[39;49m\u001b[43m(\u001b[49m\u001b[43mobj\u001b[49m\u001b[43m)\u001b[49m\n\u001b[1;32m    779\u001b[0m lines \u001b[38;5;241m=\u001b[39m output\u001b[38;5;241m.\u001b[39msplitlines()\n\u001b[1;32m    780\u001b[0m \u001b[38;5;28;01mwith\u001b[39;00m p\u001b[38;5;241m.\u001b[39mgroup():\n",
      "File \u001b[0;32m~/Personal/mitzu-io/mitzu/services/common/model.py:356\u001b[0m, in \u001b[0;36mConversion.__repr__\u001b[0;34m(self)\u001b[0m\n\u001b[1;32m    355\u001b[0m \u001b[38;5;28;01mdef\u001b[39;00m \u001b[38;5;21m__repr__\u001b[39m(\u001b[38;5;28mself\u001b[39m) \u001b[38;5;241m-\u001b[39m\u001b[38;5;241m>\u001b[39m \u001b[38;5;28mstr\u001b[39m:\n\u001b[0;32m--> 356\u001b[0m     \u001b[38;5;28;01mreturn\u001b[39;00m \u001b[38;5;28;43msuper\u001b[39;49m\u001b[43m(\u001b[49m\u001b[43m)\u001b[49m\u001b[38;5;241;43m.\u001b[39;49m\u001b[38;5;21;43m__repr__\u001b[39;49m\u001b[43m(\u001b[49m\u001b[43m)\u001b[49m\n",
      "File \u001b[0;32m~/Personal/mitzu-io/mitzu/services/common/model.py:261\u001b[0m, in \u001b[0;36mConversionMetric.__repr__\u001b[0;34m(self)\u001b[0m\n\u001b[1;32m    260\u001b[0m \u001b[38;5;28;01mdef\u001b[39;00m \u001b[38;5;21m__repr__\u001b[39m(\u001b[38;5;28mself\u001b[39m) \u001b[38;5;241m-\u001b[39m\u001b[38;5;241m>\u001b[39m \u001b[38;5;28mstr\u001b[39m:\n\u001b[0;32m--> 261\u001b[0m     fig \u001b[38;5;241m=\u001b[39m \u001b[43mvis\u001b[49m\u001b[38;5;241;43m.\u001b[39;49m\u001b[43mplot_conversion\u001b[49m\u001b[43m(\u001b[49m\u001b[38;5;28;43mself\u001b[39;49m\u001b[43m)\u001b[49m\n\u001b[1;32m    262\u001b[0m     fig\u001b[38;5;241m.\u001b[39mshow()\n\u001b[1;32m    263\u001b[0m     \u001b[38;5;28;01mreturn\u001b[39;00m \u001b[38;5;124m\"\u001b[39m\u001b[38;5;124m\"\u001b[39m\n",
      "File \u001b[0;32m~/Personal/mitzu-io/mitzu/services/notebook/visualization.py:152\u001b[0m, in \u001b[0;36mplot_conversion\u001b[0;34m(metric)\u001b[0m\n\u001b[1;32m    151\u001b[0m \u001b[38;5;28;01mdef\u001b[39;00m \u001b[38;5;21mplot_conversion\u001b[39m(metric: M\u001b[38;5;241m.\u001b[39mConversionMetric):\n\u001b[0;32m--> 152\u001b[0m     pdf \u001b[38;5;241m=\u001b[39m \u001b[43mmetric\u001b[49m\u001b[38;5;241;43m.\u001b[39;49m\u001b[43mget_df\u001b[49m\u001b[43m(\u001b[49m\u001b[43m)\u001b[49m\n\u001b[1;32m    153\u001b[0m     pdf \u001b[38;5;241m=\u001b[39m fix_na_cols(pdf)\n\u001b[1;32m    155\u001b[0m     px\u001b[38;5;241m.\u001b[39mdefaults\u001b[38;5;241m.\u001b[39mcolor_discrete_sequence \u001b[38;5;241m=\u001b[39m px\u001b[38;5;241m.\u001b[39mcolors\u001b[38;5;241m.\u001b[39mqualitative\u001b[38;5;241m.\u001b[39mPastel\n",
      "File \u001b[0;32m~/Personal/mitzu-io/mitzu/services/common/model.py:258\u001b[0m, in \u001b[0;36mConversionMetric.get_df\u001b[0;34m(self)\u001b[0m\n\u001b[1;32m    256\u001b[0m source \u001b[38;5;241m=\u001b[39m helper\u001b[38;5;241m.\u001b[39mget_segment_event_datasource(\u001b[38;5;28mself\u001b[39m\u001b[38;5;241m.\u001b[39m_conversion\u001b[38;5;241m.\u001b[39m_segments[\u001b[38;5;241m0\u001b[39m])\n\u001b[1;32m    257\u001b[0m adapter \u001b[38;5;241m=\u001b[39m factory\u001b[38;5;241m.\u001b[39mget_or_create_adapter(source\u001b[38;5;241m=\u001b[39msource)\n\u001b[0;32m--> 258\u001b[0m \u001b[38;5;28;01mreturn\u001b[39;00m \u001b[43madapter\u001b[49m\u001b[38;5;241;43m.\u001b[39;49m\u001b[43mget_conversion_df\u001b[49m\u001b[43m(\u001b[49m\u001b[38;5;28;43mself\u001b[39;49m\u001b[43m)\u001b[49m\n",
      "File \u001b[0;32m~/Personal/mitzu-io/mitzu/services/adapters/slqalchemy_adapter.py:264\u001b[0m, in \u001b[0;36mSQLAlchemyAdapter.get_conversion_df\u001b[0;34m(self, metric)\u001b[0m\n\u001b[1;32m    263\u001b[0m \u001b[38;5;28;01mdef\u001b[39;00m \u001b[38;5;21mget_conversion_df\u001b[39m(\u001b[38;5;28mself\u001b[39m, metric: M\u001b[38;5;241m.\u001b[39mConversionMetric) \u001b[38;5;241m-\u001b[39m\u001b[38;5;241m>\u001b[39m pd\u001b[38;5;241m.\u001b[39mDataFrame:\n\u001b[0;32m--> 264\u001b[0m     \u001b[38;5;28;01mreturn\u001b[39;00m \u001b[38;5;28mself\u001b[39m\u001b[38;5;241m.\u001b[39mexecute_query(\u001b[38;5;28;43mself\u001b[39;49m\u001b[38;5;241;43m.\u001b[39;49m\u001b[43m_get_conversion_select\u001b[49m\u001b[43m(\u001b[49m\u001b[43mmetric\u001b[49m\u001b[43m)\u001b[49m)\n",
      "File \u001b[0;32m~/Personal/mitzu-io/mitzu/services/adapters/slqalchemy_adapter.py:248\u001b[0m, in \u001b[0;36mSQLAlchemyAdapter._get_conversion_select\u001b[0;34m(self, metric)\u001b[0m\n\u001b[1;32m    224\u001b[0m evt_time_group \u001b[38;5;241m=\u001b[39m (\n\u001b[1;32m    225\u001b[0m     \u001b[38;5;28mself\u001b[39m\u001b[38;5;241m.\u001b[39m_get_date_trunc(\n\u001b[1;32m    226\u001b[0m         metric\u001b[38;5;241m.\u001b[39m_time_group, columns\u001b[38;5;241m.\u001b[39mget(source\u001b[38;5;241m.\u001b[39mevent_time_field)\n\u001b[0;32m   (...)\u001b[0m\n\u001b[1;32m    229\u001b[0m     \u001b[38;5;28;01melse\u001b[39;00m SA\u001b[38;5;241m.\u001b[39mliteral(\u001b[38;5;28;01mNone\u001b[39;00m)\n\u001b[1;32m    230\u001b[0m )\n\u001b[1;32m    232\u001b[0m group_by \u001b[38;5;241m=\u001b[39m (\n\u001b[1;32m    233\u001b[0m     columns\u001b[38;5;241m.\u001b[39mget(metric\u001b[38;5;241m.\u001b[39m_group_by\u001b[38;5;241m.\u001b[39m_field\u001b[38;5;241m.\u001b[39m_name)\n\u001b[1;32m    234\u001b[0m     \u001b[38;5;28;01mif\u001b[39;00m metric\u001b[38;5;241m.\u001b[39m_group_by \u001b[38;5;129;01mis\u001b[39;00m \u001b[38;5;129;01mnot\u001b[39;00m \u001b[38;5;28;01mNone\u001b[39;00m\n\u001b[1;32m    235\u001b[0m     \u001b[38;5;28;01melse\u001b[39;00m SA\u001b[38;5;241m.\u001b[39mliteral(\u001b[38;5;28;01mNone\u001b[39;00m)\n\u001b[1;32m    236\u001b[0m )\n\u001b[1;32m    238\u001b[0m \u001b[38;5;28;01mreturn\u001b[39;00m SA\u001b[38;5;241m.\u001b[39mselect(\n\u001b[1;32m    239\u001b[0m     columns\u001b[38;5;241m=\u001b[39m[\n\u001b[1;32m    240\u001b[0m         evt_time_group\u001b[38;5;241m.\u001b[39mlabel(\u001b[38;5;124m\"\u001b[39m\u001b[38;5;124mdatetime\u001b[39m\u001b[38;5;124m\"\u001b[39m),\n\u001b[1;32m    241\u001b[0m         group_by\u001b[38;5;241m.\u001b[39mlabel(\u001b[38;5;124m\"\u001b[39m\u001b[38;5;124mgroup\u001b[39m\u001b[38;5;124m\"\u001b[39m),\n\u001b[1;32m    242\u001b[0m         SA\u001b[38;5;241m.\u001b[39mfunc\u001b[38;5;241m.\u001b[39mcount(columns\u001b[38;5;241m.\u001b[39mget(source\u001b[38;5;241m.\u001b[39muser_id_field)\u001b[38;5;241m.\u001b[39mdistinct())\u001b[38;5;241m.\u001b[39mlabel(\n\u001b[1;32m    243\u001b[0m             \u001b[38;5;124m\"\u001b[39m\u001b[38;5;124munique_user_count\u001b[39m\u001b[38;5;124m\"\u001b[39m\n\u001b[1;32m    244\u001b[0m         ),\n\u001b[1;32m    245\u001b[0m         SA\u001b[38;5;241m.\u001b[39mfunc\u001b[38;5;241m.\u001b[39mcount(columns\u001b[38;5;241m.\u001b[39mget(source\u001b[38;5;241m.\u001b[39muser_id_field))\u001b[38;5;241m.\u001b[39mlabel(\u001b[38;5;124m\"\u001b[39m\u001b[38;5;124mevent_count\u001b[39m\u001b[38;5;124m\"\u001b[39m),\n\u001b[1;32m    246\u001b[0m     ],\n\u001b[1;32m    247\u001b[0m     whereclause\u001b[38;5;241m=\u001b[39m(\n\u001b[0;32m--> 248\u001b[0m         \u001b[38;5;28mself\u001b[39m\u001b[38;5;241m.\u001b[39m_get_segment_where_clause(table, \u001b[43mmetric\u001b[49m\u001b[38;5;241;43m.\u001b[39;49m\u001b[43m_segment\u001b[49m)\n\u001b[1;32m    249\u001b[0m         \u001b[38;5;241m&\u001b[39m \u001b[38;5;28mself\u001b[39m\u001b[38;5;241m.\u001b[39m_get_timewindow_where_clause(table, metric)\n\u001b[1;32m    250\u001b[0m     ),\n\u001b[1;32m    251\u001b[0m     group_by\u001b[38;5;241m=\u001b[39m[evt_time_group, group_by],\n\u001b[1;32m    252\u001b[0m )\n",
      "\u001b[0;31mAttributeError\u001b[0m: 'Conversion' object has no attribute '_segment'"
     ]
    }
   ],
   "source": [
    "cart >> view"
   ]
  },
  {
   "cell_type": "code",
   "execution_count": null,
   "id": "2b439e3b",
   "metadata": {},
   "outputs": [],
   "source": []
  },
  {
   "cell_type": "code",
   "execution_count": null,
   "id": "bd3684f6",
   "metadata": {},
   "outputs": [],
   "source": []
  }
 ],
 "metadata": {
  "kernelspec": {
   "display_name": "Python 3 (ipykernel)",
   "language": "python",
   "name": "python3"
  },
  "language_info": {
   "codemirror_mode": {
    "name": "ipython",
    "version": 3
   },
   "file_extension": ".py",
   "mimetype": "text/x-python",
   "name": "python",
   "nbconvert_exporter": "python",
   "pygments_lexer": "ipython3",
   "version": "3.9.8"
  }
 },
 "nbformat": 4,
 "nbformat_minor": 5
}
