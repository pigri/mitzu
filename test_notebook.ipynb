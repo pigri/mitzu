{
 "cells": [
  {
   "cell_type": "code",
   "execution_count": 1,
   "id": "e946edaa",
   "metadata": {},
   "outputs": [
    {
     "data": {
      "text/plain": [
       "services.notebook.model_loader._dataset_model"
      ]
     },
     "execution_count": 1,
     "metadata": {},
     "output_type": "execute_result"
    }
   ],
   "source": [
    "from services.notebook.model_loader import ModelLoader\n",
    "import services.adapters.sqlite_adapter as sa\n",
    "from services.discovery.dataset_discovery import EventDatasetDiscovery\n",
    "from tests.samples.sources import SIMPLE_CSV\n",
    "from datetime import datetime\n",
    "\n",
    "adapter = sa.SQLiteAdapter(SIMPLE_CSV)\n",
    "discovery = EventDatasetDiscovery(\n",
    "    SIMPLE_CSV, adapter, datetime(2020, 2, 1), datetime(2020, 1, 1)\n",
    ")\n",
    "dd = discovery.discover_dataset()\n",
    "ml = ModelLoader()\n",
    "m = ml.create_dataset_model(dd)\n",
    "m._to_globals(globals())"
   ]
  },
  {
   "cell_type": "code",
   "execution_count": 3,
   "id": "1b23ebe5",
   "metadata": {},
   "outputs": [
    {
     "data": {
      "text/html": [
       "<div>\n",
       "<style scoped>\n",
       "    .dataframe tbody tr th:only-of-type {\n",
       "        vertical-align: middle;\n",
       "    }\n",
       "\n",
       "    .dataframe tbody tr th {\n",
       "        vertical-align: top;\n",
       "    }\n",
       "\n",
       "    .dataframe thead th {\n",
       "        text-align: right;\n",
       "    }\n",
       "</style>\n",
       "<table border=\"1\" class=\"dataframe\">\n",
       "  <thead>\n",
       "    <tr style=\"text-align: right;\">\n",
       "      <th></th>\n",
       "      <th>datetime</th>\n",
       "      <th>group</th>\n",
       "      <th>unique_user_count</th>\n",
       "      <th>event_count</th>\n",
       "    </tr>\n",
       "  </thead>\n",
       "  <tbody>\n",
       "    <tr>\n",
       "      <th>0</th>\n",
       "      <td>2020-01-01 00:00:00</td>\n",
       "      <td>None</td>\n",
       "      <td>581</td>\n",
       "      <td>1556</td>\n",
       "    </tr>\n",
       "  </tbody>\n",
       "</table>\n",
       "</div>"
      ],
      "text/plain": [
       "              datetime group  unique_user_count  event_count\n",
       "0  2020-01-01 00:00:00  None                581         1556"
      ]
     },
     "execution_count": 3,
     "metadata": {},
     "output_type": "execute_result"
    }
   ],
   "source": [
    "(any_event).segmentation(time_group=\"day\").get_df()"
   ]
  },
  {
   "cell_type": "code",
   "execution_count": null,
   "id": "5fde9421",
   "metadata": {},
   "outputs": [],
   "source": []
  }
 ],
 "metadata": {
  "kernelspec": {
   "display_name": "Python 3 (ipykernel)",
   "language": "python",
   "name": "python3"
  },
  "language_info": {
   "codemirror_mode": {
    "name": "ipython",
    "version": 3
   },
   "file_extension": ".py",
   "mimetype": "text/x-python",
   "name": "python",
   "nbconvert_exporter": "python",
   "pygments_lexer": "ipython3",
   "version": "3.8.3"
  }
 },
 "nbformat": 4,
 "nbformat_minor": 5
}
