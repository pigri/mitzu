{
 "cells": [
  {
   "cell_type": "markdown",
   "id": "50bcfe14-273a-41c2-bec7-ae33e9592b47",
   "metadata": {},
   "source": [
    "# Creating Project"
   ]
  },
  {
   "cell_type": "code",
   "execution_count": null,
   "id": "83b52b2f-38dc-4758-b9a1-bdcbd7570bfb",
   "metadata": {},
   "outputs": [],
   "source": [
    "import warnings\n",
    "\n",
    "warnings.filterwarnings(\"ignore\")\n",
    "\n",
    "from datetime import datetime\n",
    "import mitzu.model as M\n",
    "\n",
    "\n",
    "p = M.Project(\n",
    "    project_name=\"trino_test_project\",\n",
    "    event_data_tables=[\n",
    "        M.EventDataTable.create(\n",
    "            table_name=\"sub_events\",\n",
    "            schema=\"tiny\",\n",
    "            event_name_alias=\"user_subscribe\",\n",
    "            event_time_field=\"subscription_time\",\n",
    "            user_id_field=\"subscriber_id\",\n",
    "        ),\n",
    "        M.EventDataTable.create(\n",
    "            table_name=\"web_events\",\n",
    "            schema=\"tiny\",\n",
    "            event_name_field=\"event_name\",\n",
    "            event_time_field=\"event_time\",\n",
    "            date_partition_field=\"event_time\",\n",
    "            user_id_field=\"user_id\",\n",
    "            event_specific_fields=[\"event_properties\"],\n",
    "        ),\n",
    "    ],\n",
    "    discovery_settings=M.DiscoverySettings(\n",
    "        end_dt=datetime(2021, 4, 1),\n",
    "        lookback_days=10,\n",
    "        property_sample_rate=10,\n",
    "    ),\n",
    "    webapp_settings=M.WebappSettings(\n",
    "        end_date_config=M.WebappEndDateConfig.CUSTOM_DATE,\n",
    "        custom_end_date=datetime(2021, 4, 1),\n",
    "    ),\n",
    "    connection=M.Connection(\n",
    "        connection_name=\"trino_hive_connection\",\n",
    "        connection_type=M.ConnectionType.TRINO,\n",
    "        user_name=\"test\",\n",
    "        secret_resolver=None,\n",
    "        catalog=\"minio\",\n",
    "        host=\"localhost\",\n",
    "    ),\n",
    ")"
   ]
  },
  {
   "cell_type": "markdown",
   "id": "4f5268a1-175a-45e6-a30a-86cea4456e56",
   "metadata": {},
   "source": [
    "# Saving Project to File"
   ]
  },
  {
   "cell_type": "code",
   "execution_count": null,
   "id": "1633c54c-a7ab-4922-b800-9cc81b8fda7c",
   "metadata": {},
   "outputs": [],
   "source": [
    "dp = p.discover_project()\n",
    "dp.save_to_project_file(\"trino_test_project\")"
   ]
  },
  {
   "cell_type": "markdown",
   "id": "4a267248-627c-4890-bc02-fee80ca47e0f",
   "metadata": {},
   "source": [
    "# Loading Project"
   ]
  },
  {
   "cell_type": "code",
   "execution_count": null,
   "id": "be8fbba0-38ec-4f28-a48b-edd35a471cef",
   "metadata": {},
   "outputs": [],
   "source": [
    "dp = M.DiscoveredProject.load_from_project_file(\"trino_test_project\")\n",
    "m = dp.create_notebook_class_model()"
   ]
  },
  {
   "cell_type": "markdown",
   "id": "d300d53a-1e37-4d88-86a8-6bfa85c398c7",
   "metadata": {},
   "source": [
    "# Product Analytics From Loaded Project"
   ]
  },
  {
   "cell_type": "code",
   "execution_count": null,
   "id": "01321f88-ea7a-4f6a-ac8f-83847bad6472",
   "metadata": {},
   "outputs": [],
   "source": [
    "(m.page_visit >> m.search).config(\n",
    "    conv_window=\"7 days\", time_group=\"total\", group_by=m.page_visit.event_properties.url\n",
    ").print_sql()"
   ]
  },
  {
   "cell_type": "code",
   "execution_count": null,
   "id": "dbaea316-446d-49e5-bc75-dad54d29a236",
   "metadata": {},
   "outputs": [],
   "source": [
    "m.page_visit.event_properties.url.is_www_awestore_com.config(chart_type=\"line\")"
   ]
  },
  {
   "cell_type": "code",
   "execution_count": null,
   "id": "a6ce66bf-0680-4a22-a2e5-45e4c26471df",
   "metadata": {},
   "outputs": [],
   "source": [
    "(m.checkout.event_properties.price_shown > 100).config(chart_type=\"line\")"
   ]
  },
  {
   "cell_type": "code",
   "execution_count": null,
   "id": "2547c459-6fe3-4a60-a2e6-f1f4111a65d8",
   "metadata": {},
   "outputs": [],
   "source": [
    "(m.page_visit >> m.checkout).config(\n",
    "    time_group=\"total\",\n",
    "    conv_window=\"3 week\",\n",
    "    group_by=m.page_visit.user_properties.country_code,\n",
    "    lookback_days=120,\n",
    ")"
   ]
  },
  {
   "cell_type": "code",
   "execution_count": null,
   "id": "9e778fa4-25ec-4bea-8fba-c143faed4fb2",
   "metadata": {},
   "outputs": [],
   "source": [
    "(m.page_visit >> m.checkout).config(\n",
    "    time_group=\"total\",\n",
    "    conv_window=\"3 week\",\n",
    "    group_by=m.page_visit.user_properties.country_code,\n",
    "    lookback_days=120,\n",
    ").print_sql()"
   ]
  },
  {
   "cell_type": "code",
   "execution_count": null,
   "id": "359dd61f-949b-424d-8cca-e6a5f2596715",
   "metadata": {},
   "outputs": [],
   "source": [
    "# dp.display_inline_dashboard(port=8083)\n",
    "\n",
    "# or when your notebook does not support iframes\n",
    "# dp.display_external_dashboard(port=8083)"
   ]
  },
  {
   "cell_type": "code",
   "execution_count": null,
   "id": "b54e4f5a-936a-4c12-a671-7799a41b2025",
   "metadata": {},
   "outputs": [],
   "source": []
  }
 ],
 "metadata": {
  "kernelspec": {
   "display_name": "Python 3 (ipykernel)",
   "language": "python",
   "name": "python3"
  },
  "language_info": {
   "codemirror_mode": {
    "name": "ipython",
    "version": 3
   },
   "file_extension": ".py",
   "mimetype": "text/x-python",
   "name": "python",
   "nbconvert_exporter": "python",
   "pygments_lexer": "ipython3",
   "version": "3.10.6"
  },
  "vscode": {
   "interpreter": {
    "hash": "d9ca768138a812f1b0de9f7f2ec83e2ab435952c5bc6557e021ae2b01c11ef93"
   }
  }
 },
 "nbformat": 4,
 "nbformat_minor": 5
}
