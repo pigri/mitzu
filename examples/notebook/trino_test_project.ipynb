{
  "cells": [
    {
      "cell_type": "markdown",
      "id": "50bcfe14-273a-41c2-bec7-ae33e9592b47",
      "metadata": {},
      "source": [
        "# Creating Project"
      ]
    },
    {
      "cell_type": "code",
      "execution_count": 7,
      "id": "83b52b2f-38dc-4758-b9a1-bdcbd7570bfb",
      "metadata": {},
      "outputs": [],
      "source": [
        "import warnings\n",
        "warnings.filterwarnings(\"ignore\")\n",
        "\n",
        "from datetime import datetime\n",
        "import mitzu.model as M\n",
        "\n",
        "\n",
        "p = M.Project(\n",
        "        project_name=\"trino_test_project\",\n",
        "        event_data_tables=[\n",
        "            M.EventDataTable.create(\n",
        "                table_name=\"sub_events\",\n",
        "                schema=\"tiny\",\n",
        "                event_name_alias=\"user_subscribe\",\n",
        "                event_time_field=\"subscription_time\",\n",
        "                user_id_field=\"subscriber_id\",\n",
        "            ),\n",
        "            M.EventDataTable.create(\n",
        "                table_name=\"web_events\",\n",
        "                schema=\"tiny\",\n",
        "                event_name_field=\"event_name\",\n",
        "                event_time_field=\"event_time\",\n",
        "                date_partition_field=\"event_time\",\n",
        "                user_id_field=\"user_id\",\n",
        "                event_specific_fields=[\"event_properties\"],\n",
        "            ),\n",
        "        ],\n",
        "        discovery_settings=M.DiscoverySettings(\n",
        "            end_dt=datetime(2021, 4, 1),\n",
        "            lookback_days=10,\n",
        "            property_sample_rate=10,\n",
        "        ),\n",
        "        connection=M.Connection(\n",
        "            connection_name=\"trino_hive_connection\",\n",
        "            connection_type=M.ConnectionType.TRINO,\n",
        "            user_name=\"test\",\n",
        "            secret_resolver=None,            \n",
        "            catalog=\"minio\",\n",
        "            host=\"localhost\",\n",
        "        ),\n",
        "    )"
      ]
    },
    {
      "cell_type": "markdown",
      "id": "4f5268a1-175a-45e6-a30a-86cea4456e56",
      "metadata": {},
      "source": [
        "# Saving Project to File"
      ]
    },
    {
      "cell_type": "code",
      "execution_count": 13,
      "id": "1633c54c-a7ab-4922-b800-9cc81b8fda7c",
      "metadata": {},
      "outputs": [
        {
          "name": "stdout",
          "output_type": "stream",
          "text": [
            "Successfully finished dataset discovery.                                                                                                   \n"
          ]
        }
      ],
      "source": [
        "dp = p.discover_project()\n",
        "dp.save_to_project_file(\"trino_test_project\")"
      ]
    },
    {
      "cell_type": "markdown",
      "id": "4a267248-627c-4890-bc02-fee80ca47e0f",
      "metadata": {},
      "source": [
        "# Loading Project"
      ]
    },
    {
      "cell_type": "code",
      "execution_count": 14,
      "id": "be8fbba0-38ec-4f28-a48b-edd35a471cef",
      "metadata": {},
      "outputs": [],
      "source": [
        "dp = M.DiscoveredProject.load_from_project_file(\"trino_test_project\")\n",
        "m = dp.create_notebook_class_model()"
      ]
    },
    {
      "cell_type": "markdown",
      "id": "d300d53a-1e37-4d88-86a8-6bfa85c398c7",
      "metadata": {},
      "source": [
        "# Product Analytics From Loaded Project"
      ]
    },
    {
      "cell_type": "code",
      "execution_count": 15,
      "id": "01321f88-ea7a-4f6a-ac8f-83847bad6472",
      "metadata": {},
      "outputs": [
        {
          "name": "stdout",
          "output_type": "stream",
          "text": [
            "WITH anon_1 AS\n",
            "  (SELECT tiny.web_events.user_id AS _cte_user_id,\n",
            "          tiny.web_events.event_time AS _cte_datetime,\n",
            "          web_events.event_properties.url AS _cte_group\n",
            "   FROM tiny.web_events\n",
            "   WHERE tiny.web_events.event_name = 'page_visit'\n",
            "     AND tiny.web_events.event_time >= timestamp '2021-03-02 00:00:00'\n",
            "     AND tiny.web_events.event_time <= timestamp '2021-04-01 00:00:00'\n",
            "     AND date(tiny.web_events.event_time) >= date('2021-03-02')\n",
            "     AND date(tiny.web_events.event_time) <= date('2021-04-01')),\n",
            "     anon_2 AS\n",
            "  (SELECT tiny.web_events.user_id AS _cte_user_id,\n",
            "          tiny.web_events.event_time AS _cte_datetime,\n",
            "          NULL AS _cte_group\n",
            "   FROM tiny.web_events\n",
            "   WHERE tiny.web_events.event_name = 'search'\n",
            "     AND tiny.web_events.event_time >= timestamp '2021-03-02 00:00:00'\n",
            "     AND tiny.web_events.event_time <= timestamp '2021-04-08 00:00:00'\n",
            "     AND date(tiny.web_events.event_time) >= date('2021-03-02')\n",
            "     AND date(tiny.web_events.event_time) <= date('2021-04-08'))\n",
            "SELECT NULL AS _datetime,\n",
            "       anon_1._cte_group AS _group,\n",
            "       count(DISTINCT anon_1._cte_user_id) AS _user_count_1,\n",
            "       (count(DISTINCT anon_1._cte_user_id) * 100.0) / count(DISTINCT anon_1._cte_user_id) AS _agg_value_1,\n",
            "       count(DISTINCT anon_2._cte_user_id) AS _user_count_2,\n",
            "       (count(DISTINCT anon_2._cte_user_id) * 100.0) / count(DISTINCT anon_1._cte_user_id) AS _agg_value_2\n",
            "FROM anon_1\n",
            "LEFT OUTER JOIN anon_2 ON anon_1._cte_user_id = anon_2._cte_user_id\n",
            "AND anon_2._cte_datetime > anon_1._cte_datetime\n",
            "AND anon_2._cte_datetime <= date_add('day', 7, anon_1._cte_datetime)\n",
            "GROUP BY 1,\n",
            "         2\n"
          ]
        }
      ],
      "source": [
        "(m.page_visit >> m.search).config(conv_window=\"7 days\",time_group=\"total\",group_by=m.page_visit.event_properties.url).print_sql()"
      ]
    },
    {
      "cell_type": "code",
      "execution_count": 21,
      "id": "dbaea316-446d-49e5-bc75-dad54d29a236",
      "metadata": {},
      "outputs": [
        {
          "data": {
            "application/vnd.plotly.v1+json": {
              "config": {
                "displayModeBar": false,
                "plotlyServerURL": "https://plot.ly"
              },
              "data": [
                {
                  "customdata": [
                    [
                      "<b>Datetime: </b>2021-03-02<br /><b>Group: </b>n/a<br /><br /><b>Unique users: </b>100.0"
                    ],
                    [
                      "<b>Datetime: </b>2021-03-03<br /><b>Group: </b>n/a<br /><br /><b>Unique users: </b>85.0"
                    ],
                    [
                      "<b>Datetime: </b>2021-03-04<br /><b>Group: </b>n/a<br /><br /><b>Unique users: </b>98.0"
                    ],
                    [
                      "<b>Datetime: </b>2021-03-05<br /><b>Group: </b>n/a<br /><br /><b>Unique users: </b>81.0"
                    ],
                    [
                      "<b>Datetime: </b>2021-03-06<br /><b>Group: </b>n/a<br /><br /><b>Unique users: </b>86.0"
                    ],
                    [
                      "<b>Datetime: </b>2021-03-07<br /><b>Group: </b>n/a<br /><br /><b>Unique users: </b>82.0"
                    ],
                    [
                      "<b>Datetime: </b>2021-03-08<br /><b>Group: </b>n/a<br /><br /><b>Unique users: </b>100.0"
                    ],
                    [
                      "<b>Datetime: </b>2021-03-09<br /><b>Group: </b>n/a<br /><br /><b>Unique users: </b>100.0"
                    ],
                    [
                      "<b>Datetime: </b>2021-03-10<br /><b>Group: </b>n/a<br /><br /><b>Unique users: </b>94.0"
                    ],
                    [
                      "<b>Datetime: </b>2021-03-11<br /><b>Group: </b>n/a<br /><br /><b>Unique users: </b>107.0"
                    ],
                    [
                      "<b>Datetime: </b>2021-03-12<br /><b>Group: </b>n/a<br /><br /><b>Unique users: </b>97.0"
                    ],
                    [
                      "<b>Datetime: </b>2021-03-13<br /><b>Group: </b>n/a<br /><br /><b>Unique users: </b>102.0"
                    ],
                    [
                      "<b>Datetime: </b>2021-03-14<br /><b>Group: </b>n/a<br /><br /><b>Unique users: </b>85.0"
                    ],
                    [
                      "<b>Datetime: </b>2021-03-15<br /><b>Group: </b>n/a<br /><br /><b>Unique users: </b>105.0"
                    ],
                    [
                      "<b>Datetime: </b>2021-03-16<br /><b>Group: </b>n/a<br /><br /><b>Unique users: </b>75.0"
                    ],
                    [
                      "<b>Datetime: </b>2021-03-17<br /><b>Group: </b>n/a<br /><br /><b>Unique users: </b>81.0"
                    ],
                    [
                      "<b>Datetime: </b>2021-03-18<br /><b>Group: </b>n/a<br /><br /><b>Unique users: </b>93.0"
                    ],
                    [
                      "<b>Datetime: </b>2021-03-19<br /><b>Group: </b>n/a<br /><br /><b>Unique users: </b>87.0"
                    ],
                    [
                      "<b>Datetime: </b>2021-03-20<br /><b>Group: </b>n/a<br /><br /><b>Unique users: </b>77.0"
                    ],
                    [
                      "<b>Datetime: </b>2021-03-21<br /><b>Group: </b>n/a<br /><br /><b>Unique users: </b>95.0"
                    ],
                    [
                      "<b>Datetime: </b>2021-03-22<br /><b>Group: </b>n/a<br /><br /><b>Unique users: </b>95.0"
                    ],
                    [
                      "<b>Datetime: </b>2021-03-23<br /><b>Group: </b>n/a<br /><br /><b>Unique users: </b>83.0"
                    ],
                    [
                      "<b>Datetime: </b>2021-03-24<br /><b>Group: </b>n/a<br /><br /><b>Unique users: </b>79.0"
                    ],
                    [
                      "<b>Datetime: </b>2021-03-25<br /><b>Group: </b>n/a<br /><br /><b>Unique users: </b>97.0"
                    ],
                    [
                      "<b>Datetime: </b>2021-03-26<br /><b>Group: </b>n/a<br /><br /><b>Unique users: </b>91.0"
                    ],
                    [
                      "<b>Datetime: </b>2021-03-27<br /><b>Group: </b>n/a<br /><br /><b>Unique users: </b>95.0"
                    ],
                    [
                      "<b>Datetime: </b>2021-03-28<br /><b>Group: </b>n/a<br /><br /><b>Unique users: </b>80.0"
                    ],
                    [
                      "<b>Datetime: </b>2021-03-29<br /><b>Group: </b>n/a<br /><br /><b>Unique users: </b>113.0"
                    ],
                    [
                      "<b>Datetime: </b>2021-03-30<br /><b>Group: </b>n/a<br /><br /><b>Unique users: </b>90.0"
                    ],
                    [
                      "<b>Datetime: </b>2021-03-31<br /><b>Group: </b>n/a<br /><br /><b>Unique users: </b>87.0"
                    ]
                  ],
                  "hovertemplate": "%{customdata[0]} <extra></extra>",
                  "legendgroup": "n/a",
                  "line": {
                    "color": "rgb(95, 70, 144)",
                    "dash": "solid",
                    "width": 1.5
                  },
                  "marker": {
                    "symbol": "circle"
                  },
                  "mode": "lines+markers",
                  "name": "n/a",
                  "orientation": "v",
                  "showlegend": true,
                  "text": [
                    100,
                    85,
                    98,
                    81,
                    86,
                    82,
                    100,
                    100,
                    94,
                    107,
                    97,
                    102,
                    85,
                    105,
                    75,
                    81,
                    93,
                    87,
                    77,
                    95,
                    95,
                    83,
                    79,
                    97,
                    91,
                    95,
                    80,
                    113,
                    90,
                    87
                  ],
                  "textfont": {
                    "size": 9
                  },
                  "textposition": "top center",
                  "type": "scatter",
                  "x": [
                    "2021-03-02T00:00:00",
                    "2021-03-03T00:00:00",
                    "2021-03-04T00:00:00",
                    "2021-03-05T00:00:00",
                    "2021-03-06T00:00:00",
                    "2021-03-07T00:00:00",
                    "2021-03-08T00:00:00",
                    "2021-03-09T00:00:00",
                    "2021-03-10T00:00:00",
                    "2021-03-11T00:00:00",
                    "2021-03-12T00:00:00",
                    "2021-03-13T00:00:00",
                    "2021-03-14T00:00:00",
                    "2021-03-15T00:00:00",
                    "2021-03-16T00:00:00",
                    "2021-03-17T00:00:00",
                    "2021-03-18T00:00:00",
                    "2021-03-19T00:00:00",
                    "2021-03-20T00:00:00",
                    "2021-03-21T00:00:00",
                    "2021-03-22T00:00:00",
                    "2021-03-23T00:00:00",
                    "2021-03-24T00:00:00",
                    "2021-03-25T00:00:00",
                    "2021-03-26T00:00:00",
                    "2021-03-27T00:00:00",
                    "2021-03-28T00:00:00",
                    "2021-03-29T00:00:00",
                    "2021-03-30T00:00:00",
                    "2021-03-31T00:00:00"
                  ],
                  "xaxis": "x",
                  "y": [
                    100,
                    85,
                    98,
                    81,
                    86,
                    82,
                    100,
                    100,
                    94,
                    107,
                    97,
                    102,
                    85,
                    105,
                    75,
                    81,
                    93,
                    87,
                    77,
                    95,
                    95,
                    83,
                    79,
                    97,
                    91,
                    95,
                    80,
                    113,
                    90,
                    87
                  ],
                  "yaxis": "y"
                }
              ],
              "layout": {
                "autosize": true,
                "bargap": 0.3,
                "bargroupgap": 0.15,
                "hoverlabel": {
                  "font": {
                    "size": 12
                  }
                },
                "hovermode": "x",
                "legend": {
                  "orientation": "h",
                  "title": {
                    "text": ""
                  },
                  "tracegroupgap": 0,
                  "xanchor": "left",
                  "y": -0.2,
                  "yanchor": "bottom"
                },
                "margin": {
                  "b": 1,
                  "l": 1,
                  "pad": 0,
                  "r": 1,
                  "t": 90
                },
                "paper_bgcolor": "rgba(0, 0, 0, 0)",
                "plot_bgcolor": "rgba(0, 0, 0, 0)",
                "showlegend": false,
                "template": {
                  "data": {
                    "bar": [
                      {
                        "error_x": {
                          "color": "#2a3f5f"
                        },
                        "error_y": {
                          "color": "#2a3f5f"
                        },
                        "marker": {
                          "line": {
                            "color": "#E5ECF6",
                            "width": 0.5
                          },
                          "pattern": {
                            "fillmode": "overlay",
                            "size": 10,
                            "solidity": 0.2
                          }
                        },
                        "type": "bar"
                      }
                    ],
                    "barpolar": [
                      {
                        "marker": {
                          "line": {
                            "color": "#E5ECF6",
                            "width": 0.5
                          },
                          "pattern": {
                            "fillmode": "overlay",
                            "size": 10,
                            "solidity": 0.2
                          }
                        },
                        "type": "barpolar"
                      }
                    ],
                    "carpet": [
                      {
                        "aaxis": {
                          "endlinecolor": "#2a3f5f",
                          "gridcolor": "white",
                          "linecolor": "white",
                          "minorgridcolor": "white",
                          "startlinecolor": "#2a3f5f"
                        },
                        "baxis": {
                          "endlinecolor": "#2a3f5f",
                          "gridcolor": "white",
                          "linecolor": "white",
                          "minorgridcolor": "white",
                          "startlinecolor": "#2a3f5f"
                        },
                        "type": "carpet"
                      }
                    ],
                    "choropleth": [
                      {
                        "colorbar": {
                          "outlinewidth": 0,
                          "ticks": ""
                        },
                        "type": "choropleth"
                      }
                    ],
                    "contour": [
                      {
                        "colorbar": {
                          "outlinewidth": 0,
                          "ticks": ""
                        },
                        "colorscale": [
                          [
                            0,
                            "#0d0887"
                          ],
                          [
                            0.1111111111111111,
                            "#46039f"
                          ],
                          [
                            0.2222222222222222,
                            "#7201a8"
                          ],
                          [
                            0.3333333333333333,
                            "#9c179e"
                          ],
                          [
                            0.4444444444444444,
                            "#bd3786"
                          ],
                          [
                            0.5555555555555556,
                            "#d8576b"
                          ],
                          [
                            0.6666666666666666,
                            "#ed7953"
                          ],
                          [
                            0.7777777777777778,
                            "#fb9f3a"
                          ],
                          [
                            0.8888888888888888,
                            "#fdca26"
                          ],
                          [
                            1,
                            "#f0f921"
                          ]
                        ],
                        "type": "contour"
                      }
                    ],
                    "contourcarpet": [
                      {
                        "colorbar": {
                          "outlinewidth": 0,
                          "ticks": ""
                        },
                        "type": "contourcarpet"
                      }
                    ],
                    "heatmap": [
                      {
                        "colorbar": {
                          "outlinewidth": 0,
                          "ticks": ""
                        },
                        "colorscale": [
                          [
                            0,
                            "#0d0887"
                          ],
                          [
                            0.1111111111111111,
                            "#46039f"
                          ],
                          [
                            0.2222222222222222,
                            "#7201a8"
                          ],
                          [
                            0.3333333333333333,
                            "#9c179e"
                          ],
                          [
                            0.4444444444444444,
                            "#bd3786"
                          ],
                          [
                            0.5555555555555556,
                            "#d8576b"
                          ],
                          [
                            0.6666666666666666,
                            "#ed7953"
                          ],
                          [
                            0.7777777777777778,
                            "#fb9f3a"
                          ],
                          [
                            0.8888888888888888,
                            "#fdca26"
                          ],
                          [
                            1,
                            "#f0f921"
                          ]
                        ],
                        "type": "heatmap"
                      }
                    ],
                    "heatmapgl": [
                      {
                        "colorbar": {
                          "outlinewidth": 0,
                          "ticks": ""
                        },
                        "colorscale": [
                          [
                            0,
                            "#0d0887"
                          ],
                          [
                            0.1111111111111111,
                            "#46039f"
                          ],
                          [
                            0.2222222222222222,
                            "#7201a8"
                          ],
                          [
                            0.3333333333333333,
                            "#9c179e"
                          ],
                          [
                            0.4444444444444444,
                            "#bd3786"
                          ],
                          [
                            0.5555555555555556,
                            "#d8576b"
                          ],
                          [
                            0.6666666666666666,
                            "#ed7953"
                          ],
                          [
                            0.7777777777777778,
                            "#fb9f3a"
                          ],
                          [
                            0.8888888888888888,
                            "#fdca26"
                          ],
                          [
                            1,
                            "#f0f921"
                          ]
                        ],
                        "type": "heatmapgl"
                      }
                    ],
                    "histogram": [
                      {
                        "marker": {
                          "pattern": {
                            "fillmode": "overlay",
                            "size": 10,
                            "solidity": 0.2
                          }
                        },
                        "type": "histogram"
                      }
                    ],
                    "histogram2d": [
                      {
                        "colorbar": {
                          "outlinewidth": 0,
                          "ticks": ""
                        },
                        "colorscale": [
                          [
                            0,
                            "#0d0887"
                          ],
                          [
                            0.1111111111111111,
                            "#46039f"
                          ],
                          [
                            0.2222222222222222,
                            "#7201a8"
                          ],
                          [
                            0.3333333333333333,
                            "#9c179e"
                          ],
                          [
                            0.4444444444444444,
                            "#bd3786"
                          ],
                          [
                            0.5555555555555556,
                            "#d8576b"
                          ],
                          [
                            0.6666666666666666,
                            "#ed7953"
                          ],
                          [
                            0.7777777777777778,
                            "#fb9f3a"
                          ],
                          [
                            0.8888888888888888,
                            "#fdca26"
                          ],
                          [
                            1,
                            "#f0f921"
                          ]
                        ],
                        "type": "histogram2d"
                      }
                    ],
                    "histogram2dcontour": [
                      {
                        "colorbar": {
                          "outlinewidth": 0,
                          "ticks": ""
                        },
                        "colorscale": [
                          [
                            0,
                            "#0d0887"
                          ],
                          [
                            0.1111111111111111,
                            "#46039f"
                          ],
                          [
                            0.2222222222222222,
                            "#7201a8"
                          ],
                          [
                            0.3333333333333333,
                            "#9c179e"
                          ],
                          [
                            0.4444444444444444,
                            "#bd3786"
                          ],
                          [
                            0.5555555555555556,
                            "#d8576b"
                          ],
                          [
                            0.6666666666666666,
                            "#ed7953"
                          ],
                          [
                            0.7777777777777778,
                            "#fb9f3a"
                          ],
                          [
                            0.8888888888888888,
                            "#fdca26"
                          ],
                          [
                            1,
                            "#f0f921"
                          ]
                        ],
                        "type": "histogram2dcontour"
                      }
                    ],
                    "mesh3d": [
                      {
                        "colorbar": {
                          "outlinewidth": 0,
                          "ticks": ""
                        },
                        "type": "mesh3d"
                      }
                    ],
                    "parcoords": [
                      {
                        "line": {
                          "colorbar": {
                            "outlinewidth": 0,
                            "ticks": ""
                          }
                        },
                        "type": "parcoords"
                      }
                    ],
                    "pie": [
                      {
                        "automargin": true,
                        "type": "pie"
                      }
                    ],
                    "scatter": [
                      {
                        "marker": {
                          "colorbar": {
                            "outlinewidth": 0,
                            "ticks": ""
                          }
                        },
                        "type": "scatter"
                      }
                    ],
                    "scatter3d": [
                      {
                        "line": {
                          "colorbar": {
                            "outlinewidth": 0,
                            "ticks": ""
                          }
                        },
                        "marker": {
                          "colorbar": {
                            "outlinewidth": 0,
                            "ticks": ""
                          }
                        },
                        "type": "scatter3d"
                      }
                    ],
                    "scattercarpet": [
                      {
                        "marker": {
                          "colorbar": {
                            "outlinewidth": 0,
                            "ticks": ""
                          }
                        },
                        "type": "scattercarpet"
                      }
                    ],
                    "scattergeo": [
                      {
                        "marker": {
                          "colorbar": {
                            "outlinewidth": 0,
                            "ticks": ""
                          }
                        },
                        "type": "scattergeo"
                      }
                    ],
                    "scattergl": [
                      {
                        "marker": {
                          "colorbar": {
                            "outlinewidth": 0,
                            "ticks": ""
                          }
                        },
                        "type": "scattergl"
                      }
                    ],
                    "scattermapbox": [
                      {
                        "marker": {
                          "colorbar": {
                            "outlinewidth": 0,
                            "ticks": ""
                          }
                        },
                        "type": "scattermapbox"
                      }
                    ],
                    "scatterpolar": [
                      {
                        "marker": {
                          "colorbar": {
                            "outlinewidth": 0,
                            "ticks": ""
                          }
                        },
                        "type": "scatterpolar"
                      }
                    ],
                    "scatterpolargl": [
                      {
                        "marker": {
                          "colorbar": {
                            "outlinewidth": 0,
                            "ticks": ""
                          }
                        },
                        "type": "scatterpolargl"
                      }
                    ],
                    "scatterternary": [
                      {
                        "marker": {
                          "colorbar": {
                            "outlinewidth": 0,
                            "ticks": ""
                          }
                        },
                        "type": "scatterternary"
                      }
                    ],
                    "surface": [
                      {
                        "colorbar": {
                          "outlinewidth": 0,
                          "ticks": ""
                        },
                        "colorscale": [
                          [
                            0,
                            "#0d0887"
                          ],
                          [
                            0.1111111111111111,
                            "#46039f"
                          ],
                          [
                            0.2222222222222222,
                            "#7201a8"
                          ],
                          [
                            0.3333333333333333,
                            "#9c179e"
                          ],
                          [
                            0.4444444444444444,
                            "#bd3786"
                          ],
                          [
                            0.5555555555555556,
                            "#d8576b"
                          ],
                          [
                            0.6666666666666666,
                            "#ed7953"
                          ],
                          [
                            0.7777777777777778,
                            "#fb9f3a"
                          ],
                          [
                            0.8888888888888888,
                            "#fdca26"
                          ],
                          [
                            1,
                            "#f0f921"
                          ]
                        ],
                        "type": "surface"
                      }
                    ],
                    "table": [
                      {
                        "cells": {
                          "fill": {
                            "color": "#EBF0F8"
                          },
                          "line": {
                            "color": "white"
                          }
                        },
                        "header": {
                          "fill": {
                            "color": "#C8D4E3"
                          },
                          "line": {
                            "color": "white"
                          }
                        },
                        "type": "table"
                      }
                    ]
                  },
                  "layout": {
                    "annotationdefaults": {
                      "arrowcolor": "#2a3f5f",
                      "arrowhead": 0,
                      "arrowwidth": 1
                    },
                    "autotypenumbers": "strict",
                    "coloraxis": {
                      "colorbar": {
                        "outlinewidth": 0,
                        "ticks": ""
                      }
                    },
                    "colorscale": {
                      "diverging": [
                        [
                          0,
                          "#8e0152"
                        ],
                        [
                          0.1,
                          "#c51b7d"
                        ],
                        [
                          0.2,
                          "#de77ae"
                        ],
                        [
                          0.3,
                          "#f1b6da"
                        ],
                        [
                          0.4,
                          "#fde0ef"
                        ],
                        [
                          0.5,
                          "#f7f7f7"
                        ],
                        [
                          0.6,
                          "#e6f5d0"
                        ],
                        [
                          0.7,
                          "#b8e186"
                        ],
                        [
                          0.8,
                          "#7fbc41"
                        ],
                        [
                          0.9,
                          "#4d9221"
                        ],
                        [
                          1,
                          "#276419"
                        ]
                      ],
                      "sequential": [
                        [
                          0,
                          "#0d0887"
                        ],
                        [
                          0.1111111111111111,
                          "#46039f"
                        ],
                        [
                          0.2222222222222222,
                          "#7201a8"
                        ],
                        [
                          0.3333333333333333,
                          "#9c179e"
                        ],
                        [
                          0.4444444444444444,
                          "#bd3786"
                        ],
                        [
                          0.5555555555555556,
                          "#d8576b"
                        ],
                        [
                          0.6666666666666666,
                          "#ed7953"
                        ],
                        [
                          0.7777777777777778,
                          "#fb9f3a"
                        ],
                        [
                          0.8888888888888888,
                          "#fdca26"
                        ],
                        [
                          1,
                          "#f0f921"
                        ]
                      ],
                      "sequentialminus": [
                        [
                          0,
                          "#0d0887"
                        ],
                        [
                          0.1111111111111111,
                          "#46039f"
                        ],
                        [
                          0.2222222222222222,
                          "#7201a8"
                        ],
                        [
                          0.3333333333333333,
                          "#9c179e"
                        ],
                        [
                          0.4444444444444444,
                          "#bd3786"
                        ],
                        [
                          0.5555555555555556,
                          "#d8576b"
                        ],
                        [
                          0.6666666666666666,
                          "#ed7953"
                        ],
                        [
                          0.7777777777777778,
                          "#fb9f3a"
                        ],
                        [
                          0.8888888888888888,
                          "#fdca26"
                        ],
                        [
                          1,
                          "#f0f921"
                        ]
                      ]
                    },
                    "colorway": [
                      "#636efa",
                      "#EF553B",
                      "#00cc96",
                      "#ab63fa",
                      "#FFA15A",
                      "#19d3f3",
                      "#FF6692",
                      "#B6E880",
                      "#FF97FF",
                      "#FECB52"
                    ],
                    "font": {
                      "color": "#2a3f5f"
                    },
                    "geo": {
                      "bgcolor": "white",
                      "lakecolor": "white",
                      "landcolor": "#E5ECF6",
                      "showlakes": true,
                      "showland": true,
                      "subunitcolor": "white"
                    },
                    "hoverlabel": {
                      "align": "left"
                    },
                    "hovermode": "closest",
                    "mapbox": {
                      "style": "light"
                    },
                    "paper_bgcolor": "white",
                    "plot_bgcolor": "#E5ECF6",
                    "polar": {
                      "angularaxis": {
                        "gridcolor": "white",
                        "linecolor": "white",
                        "ticks": ""
                      },
                      "bgcolor": "#E5ECF6",
                      "radialaxis": {
                        "gridcolor": "white",
                        "linecolor": "white",
                        "ticks": ""
                      }
                    },
                    "scene": {
                      "xaxis": {
                        "backgroundcolor": "#E5ECF6",
                        "gridcolor": "white",
                        "gridwidth": 2,
                        "linecolor": "white",
                        "showbackground": true,
                        "ticks": "",
                        "zerolinecolor": "white"
                      },
                      "yaxis": {
                        "backgroundcolor": "#E5ECF6",
                        "gridcolor": "white",
                        "gridwidth": 2,
                        "linecolor": "white",
                        "showbackground": true,
                        "ticks": "",
                        "zerolinecolor": "white"
                      },
                      "zaxis": {
                        "backgroundcolor": "#E5ECF6",
                        "gridcolor": "white",
                        "gridwidth": 2,
                        "linecolor": "white",
                        "showbackground": true,
                        "ticks": "",
                        "zerolinecolor": "white"
                      }
                    },
                    "shapedefaults": {
                      "line": {
                        "color": "#2a3f5f"
                      }
                    },
                    "ternary": {
                      "aaxis": {
                        "gridcolor": "white",
                        "linecolor": "white",
                        "ticks": ""
                      },
                      "baxis": {
                        "gridcolor": "white",
                        "linecolor": "white",
                        "ticks": ""
                      },
                      "bgcolor": "#E5ECF6",
                      "caxis": {
                        "gridcolor": "white",
                        "linecolor": "white",
                        "ticks": ""
                      }
                    },
                    "title": {
                      "x": 0.05
                    },
                    "xaxis": {
                      "automargin": true,
                      "gridcolor": "white",
                      "linecolor": "white",
                      "ticks": "",
                      "title": {
                        "standoff": 15
                      },
                      "zerolinecolor": "white",
                      "zerolinewidth": 2
                    },
                    "yaxis": {
                      "automargin": true,
                      "gridcolor": "white",
                      "linecolor": "white",
                      "ticks": "",
                      "title": {
                        "standoff": 15
                      },
                      "zerolinecolor": "white",
                      "zerolinewidth": 2
                    }
                  }
                },
                "title": {
                  "font": {
                    "size": 14
                  },
                  "text": "Daily count of unique users<br />who did <b>page_visit</b> with <b>url</b> = <b>www.awestore.com</b><br />latest 30 days",
                  "x": 0.5,
                  "xanchor": "center",
                  "yanchor": "top"
                },
                "uniformtext": {
                  "minsize": 7
                },
                "xaxis": {
                  "anchor": "y",
                  "autorange": true,
                  "domain": [
                    0,
                    1
                  ],
                  "fixedrange": true,
                  "gridcolor": "rgba(127,127,127,0.3)",
                  "linecolor": "rgba(127,127,127,0.3)",
                  "range": [
                    "2021-02-28 06:37:04.7191",
                    "2021-04-01 17:22:55.2809"
                  ],
                  "rangemode": "tozero",
                  "showgrid": false,
                  "showline": true,
                  "title": {
                    "text": ""
                  },
                  "type": "date"
                },
                "yaxis": {
                  "anchor": "x",
                  "autorange": true,
                  "domain": [
                    0,
                    1
                  ],
                  "fixedrange": true,
                  "gridcolor": "rgba(127,127,127,0.1)",
                  "linecolor": "rgba(127,127,127,0.1)",
                  "range": [
                    0,
                    120
                  ],
                  "rangemode": "tozero",
                  "showline": true,
                  "ticksuffix": "",
                  "title": {
                    "text": "Unique users"
                  },
                  "type": "linear"
                }
              }
            },
            "image/png": "[encoded data removed]",
            "text/html": [
              "<div>                            <div id=\"330b4253-b033-4a1d-8277-3e42899f4a75\" class=\"plotly-graph-div\" style=\"height:600px; width:100%;\"></div>            <script type=\"text/javascript\">                require([\"plotly\"], function(Plotly) {                    window.PLOTLYENV=window.PLOTLYENV || {};                                    if (document.getElementById(\"330b4253-b033-4a1d-8277-3e42899f4a75\")) {                    Plotly.newPlot(                        \"330b4253-b033-4a1d-8277-3e42899f4a75\",                        [{\"customdata\":[[\"<b>Datetime: </b>2021-03-02<br /><b>Group: </b>n/a<br /><br /><b>Unique users: </b>100.0\"],[\"<b>Datetime: </b>2021-03-03<br /><b>Group: </b>n/a<br /><br /><b>Unique users: </b>85.0\"],[\"<b>Datetime: </b>2021-03-04<br /><b>Group: </b>n/a<br /><br /><b>Unique users: </b>98.0\"],[\"<b>Datetime: </b>2021-03-05<br /><b>Group: </b>n/a<br /><br /><b>Unique users: </b>81.0\"],[\"<b>Datetime: </b>2021-03-06<br /><b>Group: </b>n/a<br /><br /><b>Unique users: </b>86.0\"],[\"<b>Datetime: </b>2021-03-07<br /><b>Group: </b>n/a<br /><br /><b>Unique users: </b>82.0\"],[\"<b>Datetime: </b>2021-03-08<br /><b>Group: </b>n/a<br /><br /><b>Unique users: </b>100.0\"],[\"<b>Datetime: </b>2021-03-09<br /><b>Group: </b>n/a<br /><br /><b>Unique users: </b>100.0\"],[\"<b>Datetime: </b>2021-03-10<br /><b>Group: </b>n/a<br /><br /><b>Unique users: </b>94.0\"],[\"<b>Datetime: </b>2021-03-11<br /><b>Group: </b>n/a<br /><br /><b>Unique users: </b>107.0\"],[\"<b>Datetime: </b>2021-03-12<br /><b>Group: </b>n/a<br /><br /><b>Unique users: </b>97.0\"],[\"<b>Datetime: </b>2021-03-13<br /><b>Group: </b>n/a<br /><br /><b>Unique users: </b>102.0\"],[\"<b>Datetime: </b>2021-03-14<br /><b>Group: </b>n/a<br /><br /><b>Unique users: </b>85.0\"],[\"<b>Datetime: </b>2021-03-15<br /><b>Group: </b>n/a<br /><br /><b>Unique users: </b>105.0\"],[\"<b>Datetime: </b>2021-03-16<br /><b>Group: </b>n/a<br /><br /><b>Unique users: </b>75.0\"],[\"<b>Datetime: </b>2021-03-17<br /><b>Group: </b>n/a<br /><br /><b>Unique users: </b>81.0\"],[\"<b>Datetime: </b>2021-03-18<br /><b>Group: </b>n/a<br /><br /><b>Unique users: </b>93.0\"],[\"<b>Datetime: </b>2021-03-19<br /><b>Group: </b>n/a<br /><br /><b>Unique users: </b>87.0\"],[\"<b>Datetime: </b>2021-03-20<br /><b>Group: </b>n/a<br /><br /><b>Unique users: </b>77.0\"],[\"<b>Datetime: </b>2021-03-21<br /><b>Group: </b>n/a<br /><br /><b>Unique users: </b>95.0\"],[\"<b>Datetime: </b>2021-03-22<br /><b>Group: </b>n/a<br /><br /><b>Unique users: </b>95.0\"],[\"<b>Datetime: </b>2021-03-23<br /><b>Group: </b>n/a<br /><br /><b>Unique users: </b>83.0\"],[\"<b>Datetime: </b>2021-03-24<br /><b>Group: </b>n/a<br /><br /><b>Unique users: </b>79.0\"],[\"<b>Datetime: </b>2021-03-25<br /><b>Group: </b>n/a<br /><br /><b>Unique users: </b>97.0\"],[\"<b>Datetime: </b>2021-03-26<br /><b>Group: </b>n/a<br /><br /><b>Unique users: </b>91.0\"],[\"<b>Datetime: </b>2021-03-27<br /><b>Group: </b>n/a<br /><br /><b>Unique users: </b>95.0\"],[\"<b>Datetime: </b>2021-03-28<br /><b>Group: </b>n/a<br /><br /><b>Unique users: </b>80.0\"],[\"<b>Datetime: </b>2021-03-29<br /><b>Group: </b>n/a<br /><br /><b>Unique users: </b>113.0\"],[\"<b>Datetime: </b>2021-03-30<br /><b>Group: </b>n/a<br /><br /><b>Unique users: </b>90.0\"],[\"<b>Datetime: </b>2021-03-31<br /><b>Group: </b>n/a<br /><br /><b>Unique users: </b>87.0\"]],\"hovertemplate\":\"%{customdata[0]} <extra></extra>\",\"legendgroup\":\"n/a\",\"line\":{\"color\":\"rgb(95, 70, 144)\",\"dash\":\"solid\",\"width\":1.5},\"marker\":{\"symbol\":\"circle\"},\"mode\":\"lines+markers\",\"name\":\"n/a\",\"orientation\":\"v\",\"showlegend\":true,\"text\":[100.0,85.0,98.0,81.0,86.0,82.0,100.0,100.0,94.0,107.0,97.0,102.0,85.0,105.0,75.0,81.0,93.0,87.0,77.0,95.0,95.0,83.0,79.0,97.0,91.0,95.0,80.0,113.0,90.0,87.0],\"x\":[\"2021-03-02T00:00:00\",\"2021-03-03T00:00:00\",\"2021-03-04T00:00:00\",\"2021-03-05T00:00:00\",\"2021-03-06T00:00:00\",\"2021-03-07T00:00:00\",\"2021-03-08T00:00:00\",\"2021-03-09T00:00:00\",\"2021-03-10T00:00:00\",\"2021-03-11T00:00:00\",\"2021-03-12T00:00:00\",\"2021-03-13T00:00:00\",\"2021-03-14T00:00:00\",\"2021-03-15T00:00:00\",\"2021-03-16T00:00:00\",\"2021-03-17T00:00:00\",\"2021-03-18T00:00:00\",\"2021-03-19T00:00:00\",\"2021-03-20T00:00:00\",\"2021-03-21T00:00:00\",\"2021-03-22T00:00:00\",\"2021-03-23T00:00:00\",\"2021-03-24T00:00:00\",\"2021-03-25T00:00:00\",\"2021-03-26T00:00:00\",\"2021-03-27T00:00:00\",\"2021-03-28T00:00:00\",\"2021-03-29T00:00:00\",\"2021-03-30T00:00:00\",\"2021-03-31T00:00:00\"],\"xaxis\":\"x\",\"y\":[100.0,85.0,98.0,81.0,86.0,82.0,100.0,100.0,94.0,107.0,97.0,102.0,85.0,105.0,75.0,81.0,93.0,87.0,77.0,95.0,95.0,83.0,79.0,97.0,91.0,95.0,80.0,113.0,90.0,87.0],\"yaxis\":\"y\",\"type\":\"scatter\",\"textfont\":{\"size\":9},\"textposition\":\"top center\"}],                        {\"template\":{\"data\":{\"bar\":[{\"error_x\":{\"color\":\"#2a3f5f\"},\"error_y\":{\"color\":\"#2a3f5f\"},\"marker\":{\"line\":{\"color\":\"#E5ECF6\",\"width\":0.5},\"pattern\":{\"fillmode\":\"overlay\",\"size\":10,\"solidity\":0.2}},\"type\":\"bar\"}],\"barpolar\":[{\"marker\":{\"line\":{\"color\":\"#E5ECF6\",\"width\":0.5},\"pattern\":{\"fillmode\":\"overlay\",\"size\":10,\"solidity\":0.2}},\"type\":\"barpolar\"}],\"carpet\":[{\"aaxis\":{\"endlinecolor\":\"#2a3f5f\",\"gridcolor\":\"white\",\"linecolor\":\"white\",\"minorgridcolor\":\"white\",\"startlinecolor\":\"#2a3f5f\"},\"baxis\":{\"endlinecolor\":\"#2a3f5f\",\"gridcolor\":\"white\",\"linecolor\":\"white\",\"minorgridcolor\":\"white\",\"startlinecolor\":\"#2a3f5f\"},\"type\":\"carpet\"}],\"choropleth\":[{\"colorbar\":{\"outlinewidth\":0,\"ticks\":\"\"},\"type\":\"choropleth\"}],\"contour\":[{\"colorbar\":{\"outlinewidth\":0,\"ticks\":\"\"},\"colorscale\":[[0.0,\"#0d0887\"],[0.1111111111111111,\"#46039f\"],[0.2222222222222222,\"#7201a8\"],[0.3333333333333333,\"#9c179e\"],[0.4444444444444444,\"#bd3786\"],[0.5555555555555556,\"#d8576b\"],[0.6666666666666666,\"#ed7953\"],[0.7777777777777778,\"#fb9f3a\"],[0.8888888888888888,\"#fdca26\"],[1.0,\"#f0f921\"]],\"type\":\"contour\"}],\"contourcarpet\":[{\"colorbar\":{\"outlinewidth\":0,\"ticks\":\"\"},\"type\":\"contourcarpet\"}],\"heatmap\":[{\"colorbar\":{\"outlinewidth\":0,\"ticks\":\"\"},\"colorscale\":[[0.0,\"#0d0887\"],[0.1111111111111111,\"#46039f\"],[0.2222222222222222,\"#7201a8\"],[0.3333333333333333,\"#9c179e\"],[0.4444444444444444,\"#bd3786\"],[0.5555555555555556,\"#d8576b\"],[0.6666666666666666,\"#ed7953\"],[0.7777777777777778,\"#fb9f3a\"],[0.8888888888888888,\"#fdca26\"],[1.0,\"#f0f921\"]],\"type\":\"heatmap\"}],\"heatmapgl\":[{\"colorbar\":{\"outlinewidth\":0,\"ticks\":\"\"},\"colorscale\":[[0.0,\"#0d0887\"],[0.1111111111111111,\"#46039f\"],[0.2222222222222222,\"#7201a8\"],[0.3333333333333333,\"#9c179e\"],[0.4444444444444444,\"#bd3786\"],[0.5555555555555556,\"#d8576b\"],[0.6666666666666666,\"#ed7953\"],[0.7777777777777778,\"#fb9f3a\"],[0.8888888888888888,\"#fdca26\"],[1.0,\"#f0f921\"]],\"type\":\"heatmapgl\"}],\"histogram\":[{\"marker\":{\"pattern\":{\"fillmode\":\"overlay\",\"size\":10,\"solidity\":0.2}},\"type\":\"histogram\"}],\"histogram2d\":[{\"colorbar\":{\"outlinewidth\":0,\"ticks\":\"\"},\"colorscale\":[[0.0,\"#0d0887\"],[0.1111111111111111,\"#46039f\"],[0.2222222222222222,\"#7201a8\"],[0.3333333333333333,\"#9c179e\"],[0.4444444444444444,\"#bd3786\"],[0.5555555555555556,\"#d8576b\"],[0.6666666666666666,\"#ed7953\"],[0.7777777777777778,\"#fb9f3a\"],[0.8888888888888888,\"#fdca26\"],[1.0,\"#f0f921\"]],\"type\":\"histogram2d\"}],\"histogram2dcontour\":[{\"colorbar\":{\"outlinewidth\":0,\"ticks\":\"\"},\"colorscale\":[[0.0,\"#0d0887\"],[0.1111111111111111,\"#46039f\"],[0.2222222222222222,\"#7201a8\"],[0.3333333333333333,\"#9c179e\"],[0.4444444444444444,\"#bd3786\"],[0.5555555555555556,\"#d8576b\"],[0.6666666666666666,\"#ed7953\"],[0.7777777777777778,\"#fb9f3a\"],[0.8888888888888888,\"#fdca26\"],[1.0,\"#f0f921\"]],\"type\":\"histogram2dcontour\"}],\"mesh3d\":[{\"colorbar\":{\"outlinewidth\":0,\"ticks\":\"\"},\"type\":\"mesh3d\"}],\"parcoords\":[{\"line\":{\"colorbar\":{\"outlinewidth\":0,\"ticks\":\"\"}},\"type\":\"parcoords\"}],\"pie\":[{\"automargin\":true,\"type\":\"pie\"}],\"scatter\":[{\"marker\":{\"colorbar\":{\"outlinewidth\":0,\"ticks\":\"\"}},\"type\":\"scatter\"}],\"scatter3d\":[{\"line\":{\"colorbar\":{\"outlinewidth\":0,\"ticks\":\"\"}},\"marker\":{\"colorbar\":{\"outlinewidth\":0,\"ticks\":\"\"}},\"type\":\"scatter3d\"}],\"scattercarpet\":[{\"marker\":{\"colorbar\":{\"outlinewidth\":0,\"ticks\":\"\"}},\"type\":\"scattercarpet\"}],\"scattergeo\":[{\"marker\":{\"colorbar\":{\"outlinewidth\":0,\"ticks\":\"\"}},\"type\":\"scattergeo\"}],\"scattergl\":[{\"marker\":{\"colorbar\":{\"outlinewidth\":0,\"ticks\":\"\"}},\"type\":\"scattergl\"}],\"scattermapbox\":[{\"marker\":{\"colorbar\":{\"outlinewidth\":0,\"ticks\":\"\"}},\"type\":\"scattermapbox\"}],\"scatterpolar\":[{\"marker\":{\"colorbar\":{\"outlinewidth\":0,\"ticks\":\"\"}},\"type\":\"scatterpolar\"}],\"scatterpolargl\":[{\"marker\":{\"colorbar\":{\"outlinewidth\":0,\"ticks\":\"\"}},\"type\":\"scatterpolargl\"}],\"scatterternary\":[{\"marker\":{\"colorbar\":{\"outlinewidth\":0,\"ticks\":\"\"}},\"type\":\"scatterternary\"}],\"surface\":[{\"colorbar\":{\"outlinewidth\":0,\"ticks\":\"\"},\"colorscale\":[[0.0,\"#0d0887\"],[0.1111111111111111,\"#46039f\"],[0.2222222222222222,\"#7201a8\"],[0.3333333333333333,\"#9c179e\"],[0.4444444444444444,\"#bd3786\"],[0.5555555555555556,\"#d8576b\"],[0.6666666666666666,\"#ed7953\"],[0.7777777777777778,\"#fb9f3a\"],[0.8888888888888888,\"#fdca26\"],[1.0,\"#f0f921\"]],\"type\":\"surface\"}],\"table\":[{\"cells\":{\"fill\":{\"color\":\"#EBF0F8\"},\"line\":{\"color\":\"white\"}},\"header\":{\"fill\":{\"color\":\"#C8D4E3\"},\"line\":{\"color\":\"white\"}},\"type\":\"table\"}]},\"layout\":{\"annotationdefaults\":{\"arrowcolor\":\"#2a3f5f\",\"arrowhead\":0,\"arrowwidth\":1},\"autotypenumbers\":\"strict\",\"coloraxis\":{\"colorbar\":{\"outlinewidth\":0,\"ticks\":\"\"}},\"colorscale\":{\"diverging\":[[0,\"#8e0152\"],[0.1,\"#c51b7d\"],[0.2,\"#de77ae\"],[0.3,\"#f1b6da\"],[0.4,\"#fde0ef\"],[0.5,\"#f7f7f7\"],[0.6,\"#e6f5d0\"],[0.7,\"#b8e186\"],[0.8,\"#7fbc41\"],[0.9,\"#4d9221\"],[1,\"#276419\"]],\"sequential\":[[0.0,\"#0d0887\"],[0.1111111111111111,\"#46039f\"],[0.2222222222222222,\"#7201a8\"],[0.3333333333333333,\"#9c179e\"],[0.4444444444444444,\"#bd3786\"],[0.5555555555555556,\"#d8576b\"],[0.6666666666666666,\"#ed7953\"],[0.7777777777777778,\"#fb9f3a\"],[0.8888888888888888,\"#fdca26\"],[1.0,\"#f0f921\"]],\"sequentialminus\":[[0.0,\"#0d0887\"],[0.1111111111111111,\"#46039f\"],[0.2222222222222222,\"#7201a8\"],[0.3333333333333333,\"#9c179e\"],[0.4444444444444444,\"#bd3786\"],[0.5555555555555556,\"#d8576b\"],[0.6666666666666666,\"#ed7953\"],[0.7777777777777778,\"#fb9f3a\"],[0.8888888888888888,\"#fdca26\"],[1.0,\"#f0f921\"]]},\"colorway\":[\"#636efa\",\"#EF553B\",\"#00cc96\",\"#ab63fa\",\"#FFA15A\",\"#19d3f3\",\"#FF6692\",\"#B6E880\",\"#FF97FF\",\"#FECB52\"],\"font\":{\"color\":\"#2a3f5f\"},\"geo\":{\"bgcolor\":\"white\",\"lakecolor\":\"white\",\"landcolor\":\"#E5ECF6\",\"showlakes\":true,\"showland\":true,\"subunitcolor\":\"white\"},\"hoverlabel\":{\"align\":\"left\"},\"hovermode\":\"closest\",\"mapbox\":{\"style\":\"light\"},\"paper_bgcolor\":\"white\",\"plot_bgcolor\":\"#E5ECF6\",\"polar\":{\"angularaxis\":{\"gridcolor\":\"white\",\"linecolor\":\"white\",\"ticks\":\"\"},\"bgcolor\":\"#E5ECF6\",\"radialaxis\":{\"gridcolor\":\"white\",\"linecolor\":\"white\",\"ticks\":\"\"}},\"scene\":{\"xaxis\":{\"backgroundcolor\":\"#E5ECF6\",\"gridcolor\":\"white\",\"gridwidth\":2,\"linecolor\":\"white\",\"showbackground\":true,\"ticks\":\"\",\"zerolinecolor\":\"white\"},\"yaxis\":{\"backgroundcolor\":\"#E5ECF6\",\"gridcolor\":\"white\",\"gridwidth\":2,\"linecolor\":\"white\",\"showbackground\":true,\"ticks\":\"\",\"zerolinecolor\":\"white\"},\"zaxis\":{\"backgroundcolor\":\"#E5ECF6\",\"gridcolor\":\"white\",\"gridwidth\":2,\"linecolor\":\"white\",\"showbackground\":true,\"ticks\":\"\",\"zerolinecolor\":\"white\"}},\"shapedefaults\":{\"line\":{\"color\":\"#2a3f5f\"}},\"ternary\":{\"aaxis\":{\"gridcolor\":\"white\",\"linecolor\":\"white\",\"ticks\":\"\"},\"baxis\":{\"gridcolor\":\"white\",\"linecolor\":\"white\",\"ticks\":\"\"},\"bgcolor\":\"#E5ECF6\",\"caxis\":{\"gridcolor\":\"white\",\"linecolor\":\"white\",\"ticks\":\"\"}},\"title\":{\"x\":0.05},\"xaxis\":{\"automargin\":true,\"gridcolor\":\"white\",\"linecolor\":\"white\",\"ticks\":\"\",\"title\":{\"standoff\":15},\"zerolinecolor\":\"white\",\"zerolinewidth\":2},\"yaxis\":{\"automargin\":true,\"gridcolor\":\"white\",\"linecolor\":\"white\",\"ticks\":\"\",\"title\":{\"standoff\":15},\"zerolinecolor\":\"white\",\"zerolinewidth\":2}}},\"xaxis\":{\"anchor\":\"y\",\"domain\":[0.0,1.0],\"title\":{\"text\":\"\"},\"rangemode\":\"tozero\",\"showline\":true,\"linecolor\":\"rgba(127,127,127,0.3)\",\"gridcolor\":\"rgba(127,127,127,0.3)\",\"fixedrange\":true,\"showgrid\":false},\"yaxis\":{\"anchor\":\"x\",\"domain\":[0.0,1.0],\"title\":{\"text\":\"Unique users\"},\"ticksuffix\":\"\",\"rangemode\":\"tozero\",\"showline\":true,\"linecolor\":\"rgba(127,127,127,0.1)\",\"gridcolor\":\"rgba(127,127,127,0.1)\",\"fixedrange\":true},\"legend\":{\"title\":{\"text\":\"\"},\"tracegroupgap\":0,\"orientation\":\"h\",\"yanchor\":\"bottom\",\"y\":-0.2,\"xanchor\":\"left\"},\"margin\":{\"t\":90,\"l\":1,\"r\":1,\"b\":1,\"pad\":0},\"title\":{\"font\":{\"size\":14},\"text\":\"Daily count of unique users<br />who did <b>page_visit</b> with <b>url</b> = <b>www.awestore.com</b><br />latest 30 days\",\"x\":0.5,\"xanchor\":\"center\",\"yanchor\":\"top\"},\"uniformtext\":{\"minsize\":7},\"hoverlabel\":{\"font\":{\"size\":12}},\"autosize\":true,\"bargap\":0.3,\"bargroupgap\":0.15,\"height\":600,\"paper_bgcolor\":\"rgba(0,0,0,0)\",\"plot_bgcolor\":\"rgba(0,0,0,0)\",\"hovermode\":\"x\",\"showlegend\":false},                        {\"displayModeBar\": false, \"responsive\": true}                    ).then(function(){\n",
              "                            \n",
              "var gd = document.getElementById('330b4253-b033-4a1d-8277-3e42899f4a75');\n",
              "var x = new MutationObserver(function (mutations, observer) {{\n",
              "        var display = window.getComputedStyle(gd).display;\n",
              "        if (!display || display === 'none') {{\n",
              "            console.log([gd, 'removed!']);\n",
              "            Plotly.purge(gd);\n",
              "            observer.disconnect();\n",
              "        }}\n",
              "}});\n",
              "\n",
              "// Listen for the removal of the full notebook cells\n",
              "var notebookContainer = gd.closest('#notebook-container');\n",
              "if (notebookContainer) {{\n",
              "    x.observe(notebookContainer, {childList: true});\n",
              "}}\n",
              "\n",
              "// Listen for the clearing of the current output cell\n",
              "var outputEl = gd.closest('.output');\n",
              "if (outputEl) {{\n",
              "    x.observe(outputEl, {childList: true});\n",
              "}}\n",
              "\n",
              "                        })                };                });            </script>        </div>"
            ]
          },
          "metadata": {},
          "output_type": "display_data"
        },
        {
          "data": {
            "text/plain": []
          },
          "execution_count": 21,
          "metadata": {},
          "output_type": "execute_result"
        }
      ],
      "source": [
        "m.page_visit.event_properties.url.is_www_awestore_com.config(chart_type=\"line\")"
      ]
    },
    {
      "cell_type": "code",
      "execution_count": 22,
      "id": "a6ce66bf-0680-4a22-a2e5-45e4c26471df",
      "metadata": {},
      "outputs": [
        {
          "data": {
            "application/vnd.plotly.v1+json": {
              "config": {
                "displayModeBar": false,
                "plotlyServerURL": "https://plot.ly"
              },
              "data": [
                {
                  "customdata": [
                    [
                      "<b>Datetime: </b>2021-03-02<br /><b>Group: </b>n/a<br /><br /><b>Unique users: </b>266.0"
                    ],
                    [
                      "<b>Datetime: </b>2021-03-03<br /><b>Group: </b>n/a<br /><br /><b>Unique users: </b>260.0"
                    ],
                    [
                      "<b>Datetime: </b>2021-03-04<br /><b>Group: </b>n/a<br /><br /><b>Unique users: </b>287.0"
                    ],
                    [
                      "<b>Datetime: </b>2021-03-05<br /><b>Group: </b>n/a<br /><br /><b>Unique users: </b>291.0"
                    ],
                    [
                      "<b>Datetime: </b>2021-03-06<br /><b>Group: </b>n/a<br /><br /><b>Unique users: </b>295.0"
                    ],
                    [
                      "<b>Datetime: </b>2021-03-07<br /><b>Group: </b>n/a<br /><br /><b>Unique users: </b>272.0"
                    ],
                    [
                      "<b>Datetime: </b>2021-03-08<br /><b>Group: </b>n/a<br /><br /><b>Unique users: </b>290.0"
                    ],
                    [
                      "<b>Datetime: </b>2021-03-09<br /><b>Group: </b>n/a<br /><br /><b>Unique users: </b>281.0"
                    ],
                    [
                      "<b>Datetime: </b>2021-03-10<br /><b>Group: </b>n/a<br /><br /><b>Unique users: </b>267.0"
                    ],
                    [
                      "<b>Datetime: </b>2021-03-11<br /><b>Group: </b>n/a<br /><br /><b>Unique users: </b>291.0"
                    ],
                    [
                      "<b>Datetime: </b>2021-03-12<br /><b>Group: </b>n/a<br /><br /><b>Unique users: </b>278.0"
                    ],
                    [
                      "<b>Datetime: </b>2021-03-13<br /><b>Group: </b>n/a<br /><br /><b>Unique users: </b>288.0"
                    ],
                    [
                      "<b>Datetime: </b>2021-03-14<br /><b>Group: </b>n/a<br /><br /><b>Unique users: </b>300.0"
                    ],
                    [
                      "<b>Datetime: </b>2021-03-15<br /><b>Group: </b>n/a<br /><br /><b>Unique users: </b>296.0"
                    ],
                    [
                      "<b>Datetime: </b>2021-03-16<br /><b>Group: </b>n/a<br /><br /><b>Unique users: </b>262.0"
                    ],
                    [
                      "<b>Datetime: </b>2021-03-17<br /><b>Group: </b>n/a<br /><br /><b>Unique users: </b>271.0"
                    ],
                    [
                      "<b>Datetime: </b>2021-03-18<br /><b>Group: </b>n/a<br /><br /><b>Unique users: </b>303.0"
                    ],
                    [
                      "<b>Datetime: </b>2021-03-19<br /><b>Group: </b>n/a<br /><br /><b>Unique users: </b>302.0"
                    ],
                    [
                      "<b>Datetime: </b>2021-03-20<br /><b>Group: </b>n/a<br /><br /><b>Unique users: </b>262.0"
                    ],
                    [
                      "<b>Datetime: </b>2021-03-21<br /><b>Group: </b>n/a<br /><br /><b>Unique users: </b>278.0"
                    ],
                    [
                      "<b>Datetime: </b>2021-03-22<br /><b>Group: </b>n/a<br /><br /><b>Unique users: </b>316.0"
                    ],
                    [
                      "<b>Datetime: </b>2021-03-23<br /><b>Group: </b>n/a<br /><br /><b>Unique users: </b>299.0"
                    ],
                    [
                      "<b>Datetime: </b>2021-03-24<br /><b>Group: </b>n/a<br /><br /><b>Unique users: </b>270.0"
                    ],
                    [
                      "<b>Datetime: </b>2021-03-25<br /><b>Group: </b>n/a<br /><br /><b>Unique users: </b>302.0"
                    ],
                    [
                      "<b>Datetime: </b>2021-03-26<br /><b>Group: </b>n/a<br /><br /><b>Unique users: </b>274.0"
                    ],
                    [
                      "<b>Datetime: </b>2021-03-27<br /><b>Group: </b>n/a<br /><br /><b>Unique users: </b>304.0"
                    ],
                    [
                      "<b>Datetime: </b>2021-03-28<br /><b>Group: </b>n/a<br /><br /><b>Unique users: </b>334.0"
                    ],
                    [
                      "<b>Datetime: </b>2021-03-29<br /><b>Group: </b>n/a<br /><br /><b>Unique users: </b>271.0"
                    ],
                    [
                      "<b>Datetime: </b>2021-03-30<br /><b>Group: </b>n/a<br /><br /><b>Unique users: </b>280.0"
                    ],
                    [
                      "<b>Datetime: </b>2021-03-31<br /><b>Group: </b>n/a<br /><br /><b>Unique users: </b>271.0"
                    ]
                  ],
                  "hovertemplate": "%{customdata[0]} <extra></extra>",
                  "legendgroup": "n/a",
                  "line": {
                    "color": "rgb(95, 70, 144)",
                    "dash": "solid",
                    "width": 1.5
                  },
                  "marker": {
                    "symbol": "circle"
                  },
                  "mode": "lines+markers",
                  "name": "n/a",
                  "orientation": "v",
                  "showlegend": true,
                  "text": [
                    266,
                    260,
                    287,
                    291,
                    295,
                    272,
                    290,
                    281,
                    267,
                    291,
                    278,
                    288,
                    300,
                    296,
                    262,
                    271,
                    303,
                    302,
                    262,
                    278,
                    316,
                    299,
                    270,
                    302,
                    274,
                    304,
                    334,
                    271,
                    280,
                    271
                  ],
                  "textfont": {
                    "size": 9
                  },
                  "textposition": "top center",
                  "type": "scatter",
                  "x": [
                    "2021-03-02T00:00:00",
                    "2021-03-03T00:00:00",
                    "2021-03-04T00:00:00",
                    "2021-03-05T00:00:00",
                    "2021-03-06T00:00:00",
                    "2021-03-07T00:00:00",
                    "2021-03-08T00:00:00",
                    "2021-03-09T00:00:00",
                    "2021-03-10T00:00:00",
                    "2021-03-11T00:00:00",
                    "2021-03-12T00:00:00",
                    "2021-03-13T00:00:00",
                    "2021-03-14T00:00:00",
                    "2021-03-15T00:00:00",
                    "2021-03-16T00:00:00",
                    "2021-03-17T00:00:00",
                    "2021-03-18T00:00:00",
                    "2021-03-19T00:00:00",
                    "2021-03-20T00:00:00",
                    "2021-03-21T00:00:00",
                    "2021-03-22T00:00:00",
                    "2021-03-23T00:00:00",
                    "2021-03-24T00:00:00",
                    "2021-03-25T00:00:00",
                    "2021-03-26T00:00:00",
                    "2021-03-27T00:00:00",
                    "2021-03-28T00:00:00",
                    "2021-03-29T00:00:00",
                    "2021-03-30T00:00:00",
                    "2021-03-31T00:00:00"
                  ],
                  "xaxis": "x",
                  "y": [
                    266,
                    260,
                    287,
                    291,
                    295,
                    272,
                    290,
                    281,
                    267,
                    291,
                    278,
                    288,
                    300,
                    296,
                    262,
                    271,
                    303,
                    302,
                    262,
                    278,
                    316,
                    299,
                    270,
                    302,
                    274,
                    304,
                    334,
                    271,
                    280,
                    271
                  ],
                  "yaxis": "y"
                }
              ],
              "layout": {
                "autosize": true,
                "bargap": 0.3,
                "bargroupgap": 0.15,
                "hoverlabel": {
                  "font": {
                    "size": 12
                  }
                },
                "hovermode": "x",
                "legend": {
                  "orientation": "h",
                  "title": {
                    "text": ""
                  },
                  "tracegroupgap": 0,
                  "xanchor": "left",
                  "y": -0.2,
                  "yanchor": "bottom"
                },
                "margin": {
                  "b": 1,
                  "l": 1,
                  "pad": 0,
                  "r": 1,
                  "t": 90
                },
                "paper_bgcolor": "rgba(0, 0, 0, 0)",
                "plot_bgcolor": "rgba(0, 0, 0, 0)",
                "showlegend": false,
                "template": {
                  "data": {
                    "bar": [
                      {
                        "error_x": {
                          "color": "#2a3f5f"
                        },
                        "error_y": {
                          "color": "#2a3f5f"
                        },
                        "marker": {
                          "line": {
                            "color": "#E5ECF6",
                            "width": 0.5
                          },
                          "pattern": {
                            "fillmode": "overlay",
                            "size": 10,
                            "solidity": 0.2
                          }
                        },
                        "type": "bar"
                      }
                    ],
                    "barpolar": [
                      {
                        "marker": {
                          "line": {
                            "color": "#E5ECF6",
                            "width": 0.5
                          },
                          "pattern": {
                            "fillmode": "overlay",
                            "size": 10,
                            "solidity": 0.2
                          }
                        },
                        "type": "barpolar"
                      }
                    ],
                    "carpet": [
                      {
                        "aaxis": {
                          "endlinecolor": "#2a3f5f",
                          "gridcolor": "white",
                          "linecolor": "white",
                          "minorgridcolor": "white",
                          "startlinecolor": "#2a3f5f"
                        },
                        "baxis": {
                          "endlinecolor": "#2a3f5f",
                          "gridcolor": "white",
                          "linecolor": "white",
                          "minorgridcolor": "white",
                          "startlinecolor": "#2a3f5f"
                        },
                        "type": "carpet"
                      }
                    ],
                    "choropleth": [
                      {
                        "colorbar": {
                          "outlinewidth": 0,
                          "ticks": ""
                        },
                        "type": "choropleth"
                      }
                    ],
                    "contour": [
                      {
                        "colorbar": {
                          "outlinewidth": 0,
                          "ticks": ""
                        },
                        "colorscale": [
                          [
                            0,
                            "#0d0887"
                          ],
                          [
                            0.1111111111111111,
                            "#46039f"
                          ],
                          [
                            0.2222222222222222,
                            "#7201a8"
                          ],
                          [
                            0.3333333333333333,
                            "#9c179e"
                          ],
                          [
                            0.4444444444444444,
                            "#bd3786"
                          ],
                          [
                            0.5555555555555556,
                            "#d8576b"
                          ],
                          [
                            0.6666666666666666,
                            "#ed7953"
                          ],
                          [
                            0.7777777777777778,
                            "#fb9f3a"
                          ],
                          [
                            0.8888888888888888,
                            "#fdca26"
                          ],
                          [
                            1,
                            "#f0f921"
                          ]
                        ],
                        "type": "contour"
                      }
                    ],
                    "contourcarpet": [
                      {
                        "colorbar": {
                          "outlinewidth": 0,
                          "ticks": ""
                        },
                        "type": "contourcarpet"
                      }
                    ],
                    "heatmap": [
                      {
                        "colorbar": {
                          "outlinewidth": 0,
                          "ticks": ""
                        },
                        "colorscale": [
                          [
                            0,
                            "#0d0887"
                          ],
                          [
                            0.1111111111111111,
                            "#46039f"
                          ],
                          [
                            0.2222222222222222,
                            "#7201a8"
                          ],
                          [
                            0.3333333333333333,
                            "#9c179e"
                          ],
                          [
                            0.4444444444444444,
                            "#bd3786"
                          ],
                          [
                            0.5555555555555556,
                            "#d8576b"
                          ],
                          [
                            0.6666666666666666,
                            "#ed7953"
                          ],
                          [
                            0.7777777777777778,
                            "#fb9f3a"
                          ],
                          [
                            0.8888888888888888,
                            "#fdca26"
                          ],
                          [
                            1,
                            "#f0f921"
                          ]
                        ],
                        "type": "heatmap"
                      }
                    ],
                    "heatmapgl": [
                      {
                        "colorbar": {
                          "outlinewidth": 0,
                          "ticks": ""
                        },
                        "colorscale": [
                          [
                            0,
                            "#0d0887"
                          ],
                          [
                            0.1111111111111111,
                            "#46039f"
                          ],
                          [
                            0.2222222222222222,
                            "#7201a8"
                          ],
                          [
                            0.3333333333333333,
                            "#9c179e"
                          ],
                          [
                            0.4444444444444444,
                            "#bd3786"
                          ],
                          [
                            0.5555555555555556,
                            "#d8576b"
                          ],
                          [
                            0.6666666666666666,
                            "#ed7953"
                          ],
                          [
                            0.7777777777777778,
                            "#fb9f3a"
                          ],
                          [
                            0.8888888888888888,
                            "#fdca26"
                          ],
                          [
                            1,
                            "#f0f921"
                          ]
                        ],
                        "type": "heatmapgl"
                      }
                    ],
                    "histogram": [
                      {
                        "marker": {
                          "pattern": {
                            "fillmode": "overlay",
                            "size": 10,
                            "solidity": 0.2
                          }
                        },
                        "type": "histogram"
                      }
                    ],
                    "histogram2d": [
                      {
                        "colorbar": {
                          "outlinewidth": 0,
                          "ticks": ""
                        },
                        "colorscale": [
                          [
                            0,
                            "#0d0887"
                          ],
                          [
                            0.1111111111111111,
                            "#46039f"
                          ],
                          [
                            0.2222222222222222,
                            "#7201a8"
                          ],
                          [
                            0.3333333333333333,
                            "#9c179e"
                          ],
                          [
                            0.4444444444444444,
                            "#bd3786"
                          ],
                          [
                            0.5555555555555556,
                            "#d8576b"
                          ],
                          [
                            0.6666666666666666,
                            "#ed7953"
                          ],
                          [
                            0.7777777777777778,
                            "#fb9f3a"
                          ],
                          [
                            0.8888888888888888,
                            "#fdca26"
                          ],
                          [
                            1,
                            "#f0f921"
                          ]
                        ],
                        "type": "histogram2d"
                      }
                    ],
                    "histogram2dcontour": [
                      {
                        "colorbar": {
                          "outlinewidth": 0,
                          "ticks": ""
                        },
                        "colorscale": [
                          [
                            0,
                            "#0d0887"
                          ],
                          [
                            0.1111111111111111,
                            "#46039f"
                          ],
                          [
                            0.2222222222222222,
                            "#7201a8"
                          ],
                          [
                            0.3333333333333333,
                            "#9c179e"
                          ],
                          [
                            0.4444444444444444,
                            "#bd3786"
                          ],
                          [
                            0.5555555555555556,
                            "#d8576b"
                          ],
                          [
                            0.6666666666666666,
                            "#ed7953"
                          ],
                          [
                            0.7777777777777778,
                            "#fb9f3a"
                          ],
                          [
                            0.8888888888888888,
                            "#fdca26"
                          ],
                          [
                            1,
                            "#f0f921"
                          ]
                        ],
                        "type": "histogram2dcontour"
                      }
                    ],
                    "mesh3d": [
                      {
                        "colorbar": {
                          "outlinewidth": 0,
                          "ticks": ""
                        },
                        "type": "mesh3d"
                      }
                    ],
                    "parcoords": [
                      {
                        "line": {
                          "colorbar": {
                            "outlinewidth": 0,
                            "ticks": ""
                          }
                        },
                        "type": "parcoords"
                      }
                    ],
                    "pie": [
                      {
                        "automargin": true,
                        "type": "pie"
                      }
                    ],
                    "scatter": [
                      {
                        "marker": {
                          "colorbar": {
                            "outlinewidth": 0,
                            "ticks": ""
                          }
                        },
                        "type": "scatter"
                      }
                    ],
                    "scatter3d": [
                      {
                        "line": {
                          "colorbar": {
                            "outlinewidth": 0,
                            "ticks": ""
                          }
                        },
                        "marker": {
                          "colorbar": {
                            "outlinewidth": 0,
                            "ticks": ""
                          }
                        },
                        "type": "scatter3d"
                      }
                    ],
                    "scattercarpet": [
                      {
                        "marker": {
                          "colorbar": {
                            "outlinewidth": 0,
                            "ticks": ""
                          }
                        },
                        "type": "scattercarpet"
                      }
                    ],
                    "scattergeo": [
                      {
                        "marker": {
                          "colorbar": {
                            "outlinewidth": 0,
                            "ticks": ""
                          }
                        },
                        "type": "scattergeo"
                      }
                    ],
                    "scattergl": [
                      {
                        "marker": {
                          "colorbar": {
                            "outlinewidth": 0,
                            "ticks": ""
                          }
                        },
                        "type": "scattergl"
                      }
                    ],
                    "scattermapbox": [
                      {
                        "marker": {
                          "colorbar": {
                            "outlinewidth": 0,
                            "ticks": ""
                          }
                        },
                        "type": "scattermapbox"
                      }
                    ],
                    "scatterpolar": [
                      {
                        "marker": {
                          "colorbar": {
                            "outlinewidth": 0,
                            "ticks": ""
                          }
                        },
                        "type": "scatterpolar"
                      }
                    ],
                    "scatterpolargl": [
                      {
                        "marker": {
                          "colorbar": {
                            "outlinewidth": 0,
                            "ticks": ""
                          }
                        },
                        "type": "scatterpolargl"
                      }
                    ],
                    "scatterternary": [
                      {
                        "marker": {
                          "colorbar": {
                            "outlinewidth": 0,
                            "ticks": ""
                          }
                        },
                        "type": "scatterternary"
                      }
                    ],
                    "surface": [
                      {
                        "colorbar": {
                          "outlinewidth": 0,
                          "ticks": ""
                        },
                        "colorscale": [
                          [
                            0,
                            "#0d0887"
                          ],
                          [
                            0.1111111111111111,
                            "#46039f"
                          ],
                          [
                            0.2222222222222222,
                            "#7201a8"
                          ],
                          [
                            0.3333333333333333,
                            "#9c179e"
                          ],
                          [
                            0.4444444444444444,
                            "#bd3786"
                          ],
                          [
                            0.5555555555555556,
                            "#d8576b"
                          ],
                          [
                            0.6666666666666666,
                            "#ed7953"
                          ],
                          [
                            0.7777777777777778,
                            "#fb9f3a"
                          ],
                          [
                            0.8888888888888888,
                            "#fdca26"
                          ],
                          [
                            1,
                            "#f0f921"
                          ]
                        ],
                        "type": "surface"
                      }
                    ],
                    "table": [
                      {
                        "cells": {
                          "fill": {
                            "color": "#EBF0F8"
                          },
                          "line": {
                            "color": "white"
                          }
                        },
                        "header": {
                          "fill": {
                            "color": "#C8D4E3"
                          },
                          "line": {
                            "color": "white"
                          }
                        },
                        "type": "table"
                      }
                    ]
                  },
                  "layout": {
                    "annotationdefaults": {
                      "arrowcolor": "#2a3f5f",
                      "arrowhead": 0,
                      "arrowwidth": 1
                    },
                    "autotypenumbers": "strict",
                    "coloraxis": {
                      "colorbar": {
                        "outlinewidth": 0,
                        "ticks": ""
                      }
                    },
                    "colorscale": {
                      "diverging": [
                        [
                          0,
                          "#8e0152"
                        ],
                        [
                          0.1,
                          "#c51b7d"
                        ],
                        [
                          0.2,
                          "#de77ae"
                        ],
                        [
                          0.3,
                          "#f1b6da"
                        ],
                        [
                          0.4,
                          "#fde0ef"
                        ],
                        [
                          0.5,
                          "#f7f7f7"
                        ],
                        [
                          0.6,
                          "#e6f5d0"
                        ],
                        [
                          0.7,
                          "#b8e186"
                        ],
                        [
                          0.8,
                          "#7fbc41"
                        ],
                        [
                          0.9,
                          "#4d9221"
                        ],
                        [
                          1,
                          "#276419"
                        ]
                      ],
                      "sequential": [
                        [
                          0,
                          "#0d0887"
                        ],
                        [
                          0.1111111111111111,
                          "#46039f"
                        ],
                        [
                          0.2222222222222222,
                          "#7201a8"
                        ],
                        [
                          0.3333333333333333,
                          "#9c179e"
                        ],
                        [
                          0.4444444444444444,
                          "#bd3786"
                        ],
                        [
                          0.5555555555555556,
                          "#d8576b"
                        ],
                        [
                          0.6666666666666666,
                          "#ed7953"
                        ],
                        [
                          0.7777777777777778,
                          "#fb9f3a"
                        ],
                        [
                          0.8888888888888888,
                          "#fdca26"
                        ],
                        [
                          1,
                          "#f0f921"
                        ]
                      ],
                      "sequentialminus": [
                        [
                          0,
                          "#0d0887"
                        ],
                        [
                          0.1111111111111111,
                          "#46039f"
                        ],
                        [
                          0.2222222222222222,
                          "#7201a8"
                        ],
                        [
                          0.3333333333333333,
                          "#9c179e"
                        ],
                        [
                          0.4444444444444444,
                          "#bd3786"
                        ],
                        [
                          0.5555555555555556,
                          "#d8576b"
                        ],
                        [
                          0.6666666666666666,
                          "#ed7953"
                        ],
                        [
                          0.7777777777777778,
                          "#fb9f3a"
                        ],
                        [
                          0.8888888888888888,
                          "#fdca26"
                        ],
                        [
                          1,
                          "#f0f921"
                        ]
                      ]
                    },
                    "colorway": [
                      "#636efa",
                      "#EF553B",
                      "#00cc96",
                      "#ab63fa",
                      "#FFA15A",
                      "#19d3f3",
                      "#FF6692",
                      "#B6E880",
                      "#FF97FF",
                      "#FECB52"
                    ],
                    "font": {
                      "color": "#2a3f5f"
                    },
                    "geo": {
                      "bgcolor": "white",
                      "lakecolor": "white",
                      "landcolor": "#E5ECF6",
                      "showlakes": true,
                      "showland": true,
                      "subunitcolor": "white"
                    },
                    "hoverlabel": {
                      "align": "left"
                    },
                    "hovermode": "closest",
                    "mapbox": {
                      "style": "light"
                    },
                    "paper_bgcolor": "white",
                    "plot_bgcolor": "#E5ECF6",
                    "polar": {
                      "angularaxis": {
                        "gridcolor": "white",
                        "linecolor": "white",
                        "ticks": ""
                      },
                      "bgcolor": "#E5ECF6",
                      "radialaxis": {
                        "gridcolor": "white",
                        "linecolor": "white",
                        "ticks": ""
                      }
                    },
                    "scene": {
                      "xaxis": {
                        "backgroundcolor": "#E5ECF6",
                        "gridcolor": "white",
                        "gridwidth": 2,
                        "linecolor": "white",
                        "showbackground": true,
                        "ticks": "",
                        "zerolinecolor": "white"
                      },
                      "yaxis": {
                        "backgroundcolor": "#E5ECF6",
                        "gridcolor": "white",
                        "gridwidth": 2,
                        "linecolor": "white",
                        "showbackground": true,
                        "ticks": "",
                        "zerolinecolor": "white"
                      },
                      "zaxis": {
                        "backgroundcolor": "#E5ECF6",
                        "gridcolor": "white",
                        "gridwidth": 2,
                        "linecolor": "white",
                        "showbackground": true,
                        "ticks": "",
                        "zerolinecolor": "white"
                      }
                    },
                    "shapedefaults": {
                      "line": {
                        "color": "#2a3f5f"
                      }
                    },
                    "ternary": {
                      "aaxis": {
                        "gridcolor": "white",
                        "linecolor": "white",
                        "ticks": ""
                      },
                      "baxis": {
                        "gridcolor": "white",
                        "linecolor": "white",
                        "ticks": ""
                      },
                      "bgcolor": "#E5ECF6",
                      "caxis": {
                        "gridcolor": "white",
                        "linecolor": "white",
                        "ticks": ""
                      }
                    },
                    "title": {
                      "x": 0.05
                    },
                    "xaxis": {
                      "automargin": true,
                      "gridcolor": "white",
                      "linecolor": "white",
                      "ticks": "",
                      "title": {
                        "standoff": 15
                      },
                      "zerolinecolor": "white",
                      "zerolinewidth": 2
                    },
                    "yaxis": {
                      "automargin": true,
                      "gridcolor": "white",
                      "linecolor": "white",
                      "ticks": "",
                      "title": {
                        "standoff": 15
                      },
                      "zerolinecolor": "white",
                      "zerolinewidth": 2
                    }
                  }
                },
                "title": {
                  "font": {
                    "size": 14
                  },
                  "text": "Daily count of unique users<br />who did <b>checkout</b> with <b>price_shown</b> > <b>100</b><br />latest 30 days",
                  "x": 0.5,
                  "xanchor": "center",
                  "yanchor": "top"
                },
                "uniformtext": {
                  "minsize": 7
                },
                "xaxis": {
                  "anchor": "y",
                  "autorange": true,
                  "domain": [
                    0,
                    1
                  ],
                  "fixedrange": true,
                  "gridcolor": "rgba(127,127,127,0.3)",
                  "linecolor": "rgba(127,127,127,0.3)",
                  "range": [
                    "2021-02-28 06:37:04.7191",
                    "2021-04-01 17:22:55.2809"
                  ],
                  "rangemode": "tozero",
                  "showgrid": false,
                  "showline": true,
                  "title": {
                    "text": ""
                  },
                  "type": "date"
                },
                "yaxis": {
                  "anchor": "x",
                  "autorange": true,
                  "domain": [
                    0,
                    1
                  ],
                  "fixedrange": true,
                  "gridcolor": "rgba(127,127,127,0.1)",
                  "linecolor": "rgba(127,127,127,0.1)",
                  "range": [
                    0,
                    354.69026548672565
                  ],
                  "rangemode": "tozero",
                  "showline": true,
                  "ticksuffix": "",
                  "title": {
                    "text": "Unique users"
                  },
                  "type": "linear"
                }
              }
            },
            "image/png": "[encoded data removed]",
            "text/html": [
              "<div>                            <div id=\"d0bc1aed-3451-4b1c-b0f5-edd90d0af457\" class=\"plotly-graph-div\" style=\"height:600px; width:100%;\"></div>            <script type=\"text/javascript\">                require([\"plotly\"], function(Plotly) {                    window.PLOTLYENV=window.PLOTLYENV || {};                                    if (document.getElementById(\"d0bc1aed-3451-4b1c-b0f5-edd90d0af457\")) {                    Plotly.newPlot(                        \"d0bc1aed-3451-4b1c-b0f5-edd90d0af457\",                        [{\"customdata\":[[\"<b>Datetime: </b>2021-03-02<br /><b>Group: </b>n/a<br /><br /><b>Unique users: </b>266.0\"],[\"<b>Datetime: </b>2021-03-03<br /><b>Group: </b>n/a<br /><br /><b>Unique users: </b>260.0\"],[\"<b>Datetime: </b>2021-03-04<br /><b>Group: </b>n/a<br /><br /><b>Unique users: </b>287.0\"],[\"<b>Datetime: </b>2021-03-05<br /><b>Group: </b>n/a<br /><br /><b>Unique users: </b>291.0\"],[\"<b>Datetime: </b>2021-03-06<br /><b>Group: </b>n/a<br /><br /><b>Unique users: </b>295.0\"],[\"<b>Datetime: </b>2021-03-07<br /><b>Group: </b>n/a<br /><br /><b>Unique users: </b>272.0\"],[\"<b>Datetime: </b>2021-03-08<br /><b>Group: </b>n/a<br /><br /><b>Unique users: </b>290.0\"],[\"<b>Datetime: </b>2021-03-09<br /><b>Group: </b>n/a<br /><br /><b>Unique users: </b>281.0\"],[\"<b>Datetime: </b>2021-03-10<br /><b>Group: </b>n/a<br /><br /><b>Unique users: </b>267.0\"],[\"<b>Datetime: </b>2021-03-11<br /><b>Group: </b>n/a<br /><br /><b>Unique users: </b>291.0\"],[\"<b>Datetime: </b>2021-03-12<br /><b>Group: </b>n/a<br /><br /><b>Unique users: </b>278.0\"],[\"<b>Datetime: </b>2021-03-13<br /><b>Group: </b>n/a<br /><br /><b>Unique users: </b>288.0\"],[\"<b>Datetime: </b>2021-03-14<br /><b>Group: </b>n/a<br /><br /><b>Unique users: </b>300.0\"],[\"<b>Datetime: </b>2021-03-15<br /><b>Group: </b>n/a<br /><br /><b>Unique users: </b>296.0\"],[\"<b>Datetime: </b>2021-03-16<br /><b>Group: </b>n/a<br /><br /><b>Unique users: </b>262.0\"],[\"<b>Datetime: </b>2021-03-17<br /><b>Group: </b>n/a<br /><br /><b>Unique users: </b>271.0\"],[\"<b>Datetime: </b>2021-03-18<br /><b>Group: </b>n/a<br /><br /><b>Unique users: </b>303.0\"],[\"<b>Datetime: </b>2021-03-19<br /><b>Group: </b>n/a<br /><br /><b>Unique users: </b>302.0\"],[\"<b>Datetime: </b>2021-03-20<br /><b>Group: </b>n/a<br /><br /><b>Unique users: </b>262.0\"],[\"<b>Datetime: </b>2021-03-21<br /><b>Group: </b>n/a<br /><br /><b>Unique users: </b>278.0\"],[\"<b>Datetime: </b>2021-03-22<br /><b>Group: </b>n/a<br /><br /><b>Unique users: </b>316.0\"],[\"<b>Datetime: </b>2021-03-23<br /><b>Group: </b>n/a<br /><br /><b>Unique users: </b>299.0\"],[\"<b>Datetime: </b>2021-03-24<br /><b>Group: </b>n/a<br /><br /><b>Unique users: </b>270.0\"],[\"<b>Datetime: </b>2021-03-25<br /><b>Group: </b>n/a<br /><br /><b>Unique users: </b>302.0\"],[\"<b>Datetime: </b>2021-03-26<br /><b>Group: </b>n/a<br /><br /><b>Unique users: </b>274.0\"],[\"<b>Datetime: </b>2021-03-27<br /><b>Group: </b>n/a<br /><br /><b>Unique users: </b>304.0\"],[\"<b>Datetime: </b>2021-03-28<br /><b>Group: </b>n/a<br /><br /><b>Unique users: </b>334.0\"],[\"<b>Datetime: </b>2021-03-29<br /><b>Group: </b>n/a<br /><br /><b>Unique users: </b>271.0\"],[\"<b>Datetime: </b>2021-03-30<br /><b>Group: </b>n/a<br /><br /><b>Unique users: </b>280.0\"],[\"<b>Datetime: </b>2021-03-31<br /><b>Group: </b>n/a<br /><br /><b>Unique users: </b>271.0\"]],\"hovertemplate\":\"%{customdata[0]} <extra></extra>\",\"legendgroup\":\"n/a\",\"line\":{\"color\":\"rgb(95, 70, 144)\",\"dash\":\"solid\",\"width\":1.5},\"marker\":{\"symbol\":\"circle\"},\"mode\":\"lines+markers\",\"name\":\"n/a\",\"orientation\":\"v\",\"showlegend\":true,\"text\":[266.0,260.0,287.0,291.0,295.0,272.0,290.0,281.0,267.0,291.0,278.0,288.0,300.0,296.0,262.0,271.0,303.0,302.0,262.0,278.0,316.0,299.0,270.0,302.0,274.0,304.0,334.0,271.0,280.0,271.0],\"x\":[\"2021-03-02T00:00:00\",\"2021-03-03T00:00:00\",\"2021-03-04T00:00:00\",\"2021-03-05T00:00:00\",\"2021-03-06T00:00:00\",\"2021-03-07T00:00:00\",\"2021-03-08T00:00:00\",\"2021-03-09T00:00:00\",\"2021-03-10T00:00:00\",\"2021-03-11T00:00:00\",\"2021-03-12T00:00:00\",\"2021-03-13T00:00:00\",\"2021-03-14T00:00:00\",\"2021-03-15T00:00:00\",\"2021-03-16T00:00:00\",\"2021-03-17T00:00:00\",\"2021-03-18T00:00:00\",\"2021-03-19T00:00:00\",\"2021-03-20T00:00:00\",\"2021-03-21T00:00:00\",\"2021-03-22T00:00:00\",\"2021-03-23T00:00:00\",\"2021-03-24T00:00:00\",\"2021-03-25T00:00:00\",\"2021-03-26T00:00:00\",\"2021-03-27T00:00:00\",\"2021-03-28T00:00:00\",\"2021-03-29T00:00:00\",\"2021-03-30T00:00:00\",\"2021-03-31T00:00:00\"],\"xaxis\":\"x\",\"y\":[266.0,260.0,287.0,291.0,295.0,272.0,290.0,281.0,267.0,291.0,278.0,288.0,300.0,296.0,262.0,271.0,303.0,302.0,262.0,278.0,316.0,299.0,270.0,302.0,274.0,304.0,334.0,271.0,280.0,271.0],\"yaxis\":\"y\",\"type\":\"scatter\",\"textfont\":{\"size\":9},\"textposition\":\"top center\"}],                        {\"template\":{\"data\":{\"bar\":[{\"error_x\":{\"color\":\"#2a3f5f\"},\"error_y\":{\"color\":\"#2a3f5f\"},\"marker\":{\"line\":{\"color\":\"#E5ECF6\",\"width\":0.5},\"pattern\":{\"fillmode\":\"overlay\",\"size\":10,\"solidity\":0.2}},\"type\":\"bar\"}],\"barpolar\":[{\"marker\":{\"line\":{\"color\":\"#E5ECF6\",\"width\":0.5},\"pattern\":{\"fillmode\":\"overlay\",\"size\":10,\"solidity\":0.2}},\"type\":\"barpolar\"}],\"carpet\":[{\"aaxis\":{\"endlinecolor\":\"#2a3f5f\",\"gridcolor\":\"white\",\"linecolor\":\"white\",\"minorgridcolor\":\"white\",\"startlinecolor\":\"#2a3f5f\"},\"baxis\":{\"endlinecolor\":\"#2a3f5f\",\"gridcolor\":\"white\",\"linecolor\":\"white\",\"minorgridcolor\":\"white\",\"startlinecolor\":\"#2a3f5f\"},\"type\":\"carpet\"}],\"choropleth\":[{\"colorbar\":{\"outlinewidth\":0,\"ticks\":\"\"},\"type\":\"choropleth\"}],\"contour\":[{\"colorbar\":{\"outlinewidth\":0,\"ticks\":\"\"},\"colorscale\":[[0.0,\"#0d0887\"],[0.1111111111111111,\"#46039f\"],[0.2222222222222222,\"#7201a8\"],[0.3333333333333333,\"#9c179e\"],[0.4444444444444444,\"#bd3786\"],[0.5555555555555556,\"#d8576b\"],[0.6666666666666666,\"#ed7953\"],[0.7777777777777778,\"#fb9f3a\"],[0.8888888888888888,\"#fdca26\"],[1.0,\"#f0f921\"]],\"type\":\"contour\"}],\"contourcarpet\":[{\"colorbar\":{\"outlinewidth\":0,\"ticks\":\"\"},\"type\":\"contourcarpet\"}],\"heatmap\":[{\"colorbar\":{\"outlinewidth\":0,\"ticks\":\"\"},\"colorscale\":[[0.0,\"#0d0887\"],[0.1111111111111111,\"#46039f\"],[0.2222222222222222,\"#7201a8\"],[0.3333333333333333,\"#9c179e\"],[0.4444444444444444,\"#bd3786\"],[0.5555555555555556,\"#d8576b\"],[0.6666666666666666,\"#ed7953\"],[0.7777777777777778,\"#fb9f3a\"],[0.8888888888888888,\"#fdca26\"],[1.0,\"#f0f921\"]],\"type\":\"heatmap\"}],\"heatmapgl\":[{\"colorbar\":{\"outlinewidth\":0,\"ticks\":\"\"},\"colorscale\":[[0.0,\"#0d0887\"],[0.1111111111111111,\"#46039f\"],[0.2222222222222222,\"#7201a8\"],[0.3333333333333333,\"#9c179e\"],[0.4444444444444444,\"#bd3786\"],[0.5555555555555556,\"#d8576b\"],[0.6666666666666666,\"#ed7953\"],[0.7777777777777778,\"#fb9f3a\"],[0.8888888888888888,\"#fdca26\"],[1.0,\"#f0f921\"]],\"type\":\"heatmapgl\"}],\"histogram\":[{\"marker\":{\"pattern\":{\"fillmode\":\"overlay\",\"size\":10,\"solidity\":0.2}},\"type\":\"histogram\"}],\"histogram2d\":[{\"colorbar\":{\"outlinewidth\":0,\"ticks\":\"\"},\"colorscale\":[[0.0,\"#0d0887\"],[0.1111111111111111,\"#46039f\"],[0.2222222222222222,\"#7201a8\"],[0.3333333333333333,\"#9c179e\"],[0.4444444444444444,\"#bd3786\"],[0.5555555555555556,\"#d8576b\"],[0.6666666666666666,\"#ed7953\"],[0.7777777777777778,\"#fb9f3a\"],[0.8888888888888888,\"#fdca26\"],[1.0,\"#f0f921\"]],\"type\":\"histogram2d\"}],\"histogram2dcontour\":[{\"colorbar\":{\"outlinewidth\":0,\"ticks\":\"\"},\"colorscale\":[[0.0,\"#0d0887\"],[0.1111111111111111,\"#46039f\"],[0.2222222222222222,\"#7201a8\"],[0.3333333333333333,\"#9c179e\"],[0.4444444444444444,\"#bd3786\"],[0.5555555555555556,\"#d8576b\"],[0.6666666666666666,\"#ed7953\"],[0.7777777777777778,\"#fb9f3a\"],[0.8888888888888888,\"#fdca26\"],[1.0,\"#f0f921\"]],\"type\":\"histogram2dcontour\"}],\"mesh3d\":[{\"colorbar\":{\"outlinewidth\":0,\"ticks\":\"\"},\"type\":\"mesh3d\"}],\"parcoords\":[{\"line\":{\"colorbar\":{\"outlinewidth\":0,\"ticks\":\"\"}},\"type\":\"parcoords\"}],\"pie\":[{\"automargin\":true,\"type\":\"pie\"}],\"scatter\":[{\"marker\":{\"colorbar\":{\"outlinewidth\":0,\"ticks\":\"\"}},\"type\":\"scatter\"}],\"scatter3d\":[{\"line\":{\"colorbar\":{\"outlinewidth\":0,\"ticks\":\"\"}},\"marker\":{\"colorbar\":{\"outlinewidth\":0,\"ticks\":\"\"}},\"type\":\"scatter3d\"}],\"scattercarpet\":[{\"marker\":{\"colorbar\":{\"outlinewidth\":0,\"ticks\":\"\"}},\"type\":\"scattercarpet\"}],\"scattergeo\":[{\"marker\":{\"colorbar\":{\"outlinewidth\":0,\"ticks\":\"\"}},\"type\":\"scattergeo\"}],\"scattergl\":[{\"marker\":{\"colorbar\":{\"outlinewidth\":0,\"ticks\":\"\"}},\"type\":\"scattergl\"}],\"scattermapbox\":[{\"marker\":{\"colorbar\":{\"outlinewidth\":0,\"ticks\":\"\"}},\"type\":\"scattermapbox\"}],\"scatterpolar\":[{\"marker\":{\"colorbar\":{\"outlinewidth\":0,\"ticks\":\"\"}},\"type\":\"scatterpolar\"}],\"scatterpolargl\":[{\"marker\":{\"colorbar\":{\"outlinewidth\":0,\"ticks\":\"\"}},\"type\":\"scatterpolargl\"}],\"scatterternary\":[{\"marker\":{\"colorbar\":{\"outlinewidth\":0,\"ticks\":\"\"}},\"type\":\"scatterternary\"}],\"surface\":[{\"colorbar\":{\"outlinewidth\":0,\"ticks\":\"\"},\"colorscale\":[[0.0,\"#0d0887\"],[0.1111111111111111,\"#46039f\"],[0.2222222222222222,\"#7201a8\"],[0.3333333333333333,\"#9c179e\"],[0.4444444444444444,\"#bd3786\"],[0.5555555555555556,\"#d8576b\"],[0.6666666666666666,\"#ed7953\"],[0.7777777777777778,\"#fb9f3a\"],[0.8888888888888888,\"#fdca26\"],[1.0,\"#f0f921\"]],\"type\":\"surface\"}],\"table\":[{\"cells\":{\"fill\":{\"color\":\"#EBF0F8\"},\"line\":{\"color\":\"white\"}},\"header\":{\"fill\":{\"color\":\"#C8D4E3\"},\"line\":{\"color\":\"white\"}},\"type\":\"table\"}]},\"layout\":{\"annotationdefaults\":{\"arrowcolor\":\"#2a3f5f\",\"arrowhead\":0,\"arrowwidth\":1},\"autotypenumbers\":\"strict\",\"coloraxis\":{\"colorbar\":{\"outlinewidth\":0,\"ticks\":\"\"}},\"colorscale\":{\"diverging\":[[0,\"#8e0152\"],[0.1,\"#c51b7d\"],[0.2,\"#de77ae\"],[0.3,\"#f1b6da\"],[0.4,\"#fde0ef\"],[0.5,\"#f7f7f7\"],[0.6,\"#e6f5d0\"],[0.7,\"#b8e186\"],[0.8,\"#7fbc41\"],[0.9,\"#4d9221\"],[1,\"#276419\"]],\"sequential\":[[0.0,\"#0d0887\"],[0.1111111111111111,\"#46039f\"],[0.2222222222222222,\"#7201a8\"],[0.3333333333333333,\"#9c179e\"],[0.4444444444444444,\"#bd3786\"],[0.5555555555555556,\"#d8576b\"],[0.6666666666666666,\"#ed7953\"],[0.7777777777777778,\"#fb9f3a\"],[0.8888888888888888,\"#fdca26\"],[1.0,\"#f0f921\"]],\"sequentialminus\":[[0.0,\"#0d0887\"],[0.1111111111111111,\"#46039f\"],[0.2222222222222222,\"#7201a8\"],[0.3333333333333333,\"#9c179e\"],[0.4444444444444444,\"#bd3786\"],[0.5555555555555556,\"#d8576b\"],[0.6666666666666666,\"#ed7953\"],[0.7777777777777778,\"#fb9f3a\"],[0.8888888888888888,\"#fdca26\"],[1.0,\"#f0f921\"]]},\"colorway\":[\"#636efa\",\"#EF553B\",\"#00cc96\",\"#ab63fa\",\"#FFA15A\",\"#19d3f3\",\"#FF6692\",\"#B6E880\",\"#FF97FF\",\"#FECB52\"],\"font\":{\"color\":\"#2a3f5f\"},\"geo\":{\"bgcolor\":\"white\",\"lakecolor\":\"white\",\"landcolor\":\"#E5ECF6\",\"showlakes\":true,\"showland\":true,\"subunitcolor\":\"white\"},\"hoverlabel\":{\"align\":\"left\"},\"hovermode\":\"closest\",\"mapbox\":{\"style\":\"light\"},\"paper_bgcolor\":\"white\",\"plot_bgcolor\":\"#E5ECF6\",\"polar\":{\"angularaxis\":{\"gridcolor\":\"white\",\"linecolor\":\"white\",\"ticks\":\"\"},\"bgcolor\":\"#E5ECF6\",\"radialaxis\":{\"gridcolor\":\"white\",\"linecolor\":\"white\",\"ticks\":\"\"}},\"scene\":{\"xaxis\":{\"backgroundcolor\":\"#E5ECF6\",\"gridcolor\":\"white\",\"gridwidth\":2,\"linecolor\":\"white\",\"showbackground\":true,\"ticks\":\"\",\"zerolinecolor\":\"white\"},\"yaxis\":{\"backgroundcolor\":\"#E5ECF6\",\"gridcolor\":\"white\",\"gridwidth\":2,\"linecolor\":\"white\",\"showbackground\":true,\"ticks\":\"\",\"zerolinecolor\":\"white\"},\"zaxis\":{\"backgroundcolor\":\"#E5ECF6\",\"gridcolor\":\"white\",\"gridwidth\":2,\"linecolor\":\"white\",\"showbackground\":true,\"ticks\":\"\",\"zerolinecolor\":\"white\"}},\"shapedefaults\":{\"line\":{\"color\":\"#2a3f5f\"}},\"ternary\":{\"aaxis\":{\"gridcolor\":\"white\",\"linecolor\":\"white\",\"ticks\":\"\"},\"baxis\":{\"gridcolor\":\"white\",\"linecolor\":\"white\",\"ticks\":\"\"},\"bgcolor\":\"#E5ECF6\",\"caxis\":{\"gridcolor\":\"white\",\"linecolor\":\"white\",\"ticks\":\"\"}},\"title\":{\"x\":0.05},\"xaxis\":{\"automargin\":true,\"gridcolor\":\"white\",\"linecolor\":\"white\",\"ticks\":\"\",\"title\":{\"standoff\":15},\"zerolinecolor\":\"white\",\"zerolinewidth\":2},\"yaxis\":{\"automargin\":true,\"gridcolor\":\"white\",\"linecolor\":\"white\",\"ticks\":\"\",\"title\":{\"standoff\":15},\"zerolinecolor\":\"white\",\"zerolinewidth\":2}}},\"xaxis\":{\"anchor\":\"y\",\"domain\":[0.0,1.0],\"title\":{\"text\":\"\"},\"rangemode\":\"tozero\",\"showline\":true,\"linecolor\":\"rgba(127,127,127,0.3)\",\"gridcolor\":\"rgba(127,127,127,0.3)\",\"fixedrange\":true,\"showgrid\":false},\"yaxis\":{\"anchor\":\"x\",\"domain\":[0.0,1.0],\"title\":{\"text\":\"Unique users\"},\"ticksuffix\":\"\",\"rangemode\":\"tozero\",\"showline\":true,\"linecolor\":\"rgba(127,127,127,0.1)\",\"gridcolor\":\"rgba(127,127,127,0.1)\",\"fixedrange\":true},\"legend\":{\"title\":{\"text\":\"\"},\"tracegroupgap\":0,\"orientation\":\"h\",\"yanchor\":\"bottom\",\"y\":-0.2,\"xanchor\":\"left\"},\"margin\":{\"t\":90,\"l\":1,\"r\":1,\"b\":1,\"pad\":0},\"title\":{\"font\":{\"size\":14},\"text\":\"Daily count of unique users<br />who did <b>checkout</b> with <b>price_shown</b> > <b>100</b><br />latest 30 days\",\"x\":0.5,\"xanchor\":\"center\",\"yanchor\":\"top\"},\"uniformtext\":{\"minsize\":7},\"hoverlabel\":{\"font\":{\"size\":12}},\"autosize\":true,\"bargap\":0.3,\"bargroupgap\":0.15,\"height\":600,\"paper_bgcolor\":\"rgba(0,0,0,0)\",\"plot_bgcolor\":\"rgba(0,0,0,0)\",\"hovermode\":\"x\",\"showlegend\":false},                        {\"displayModeBar\": false, \"responsive\": true}                    ).then(function(){\n",
              "                            \n",
              "var gd = document.getElementById('d0bc1aed-3451-4b1c-b0f5-edd90d0af457');\n",
              "var x = new MutationObserver(function (mutations, observer) {{\n",
              "        var display = window.getComputedStyle(gd).display;\n",
              "        if (!display || display === 'none') {{\n",
              "            console.log([gd, 'removed!']);\n",
              "            Plotly.purge(gd);\n",
              "            observer.disconnect();\n",
              "        }}\n",
              "}});\n",
              "\n",
              "// Listen for the removal of the full notebook cells\n",
              "var notebookContainer = gd.closest('#notebook-container');\n",
              "if (notebookContainer) {{\n",
              "    x.observe(notebookContainer, {childList: true});\n",
              "}}\n",
              "\n",
              "// Listen for the clearing of the current output cell\n",
              "var outputEl = gd.closest('.output');\n",
              "if (outputEl) {{\n",
              "    x.observe(outputEl, {childList: true});\n",
              "}}\n",
              "\n",
              "                        })                };                });            </script>        </div>"
            ]
          },
          "metadata": {},
          "output_type": "display_data"
        },
        {
          "data": {
            "text/plain": []
          },
          "execution_count": 22,
          "metadata": {},
          "output_type": "execute_result"
        }
      ],
      "source": [
        "(m.checkout.event_properties.price_shown > 100).config(chart_type=\"line\")"
      ]
    },
    {
      "cell_type": "code",
      "execution_count": 23,
      "id": "2547c459-6fe3-4a60-a2e6-f1f4111a65d8",
      "metadata": {},
      "outputs": [
        {
          "data": {
            "application/vnd.plotly.v1+json": {
              "config": {
                "displayModeBar": false,
                "plotlyServerURL": "https://plot.ly"
              },
              "data": [
                {
                  "alignmentgroup": "True",
                  "customdata": [
                    [
                      "<b>Step: </b><b>Step 1.</b><br /><b>Group: </b>br<br /><br /><b>Conversion rate: </b>100.0 %<br /><b>User count: </b>3517"
                    ],
                    [
                      "<b>Step: </b><b>Step 2.</b><br /><b>Group: </b>br<br /><br /><b>Conversion rate: </b>1.0 %<br /><b>User count: </b>36"
                    ]
                  ],
                  "hovertemplate": "%{customdata[0]} <extra></extra>",
                  "legendgroup": "br",
                  "marker": {
                    "color": "rgb(95, 70, 144)",
                    "pattern": {
                      "shape": ""
                    }
                  },
                  "name": "br",
                  "offsetgroup": "br",
                  "orientation": "v",
                  "showlegend": true,
                  "text": [
                    "100.0 %",
                    "1.0 %"
                  ],
                  "textfont": {
                    "size": 9
                  },
                  "textposition": "outside",
                  "type": "bar",
                  "x": [
                    "<b>Step 1.</b>",
                    "<b>Step 2.</b>"
                  ],
                  "xaxis": "x",
                  "y": [
                    100,
                    1
                  ],
                  "yaxis": "y"
                },
                {
                  "alignmentgroup": "True",
                  "customdata": [
                    [
                      "<b>Step: </b><b>Step 1.</b><br /><b>Group: </b>cn<br /><br /><b>Conversion rate: </b>100.0 %<br /><b>User count: </b>3420"
                    ],
                    [
                      "<b>Step: </b><b>Step 2.</b><br /><b>Group: </b>cn<br /><br /><b>Conversion rate: </b>1.2 %<br /><b>User count: </b>42"
                    ]
                  ],
                  "hovertemplate": "%{customdata[0]} <extra></extra>",
                  "legendgroup": "cn",
                  "marker": {
                    "color": "rgb(237, 173, 8)",
                    "pattern": {
                      "shape": ""
                    }
                  },
                  "name": "cn",
                  "offsetgroup": "cn",
                  "orientation": "v",
                  "showlegend": true,
                  "text": [
                    "100.0 %",
                    "1.2 %"
                  ],
                  "textfont": {
                    "size": 9
                  },
                  "textposition": "outside",
                  "type": "bar",
                  "x": [
                    "<b>Step 1.</b>",
                    "<b>Step 2.</b>"
                  ],
                  "xaxis": "x",
                  "y": [
                    100,
                    1.2
                  ],
                  "yaxis": "y"
                },
                {
                  "alignmentgroup": "True",
                  "customdata": [
                    [
                      "<b>Step: </b><b>Step 1.</b><br /><b>Group: </b>de<br /><br /><b>Conversion rate: </b>100.0 %<br /><b>User count: </b>3412"
                    ],
                    [
                      "<b>Step: </b><b>Step 2.</b><br /><b>Group: </b>de<br /><br /><b>Conversion rate: </b>1.0 %<br /><b>User count: </b>33"
                    ]
                  ],
                  "hovertemplate": "%{customdata[0]} <extra></extra>",
                  "legendgroup": "de",
                  "marker": {
                    "color": "rgb(29, 105, 150)",
                    "pattern": {
                      "shape": ""
                    }
                  },
                  "name": "de",
                  "offsetgroup": "de",
                  "orientation": "v",
                  "showlegend": true,
                  "text": [
                    "100.0 %",
                    "1.0 %"
                  ],
                  "textfont": {
                    "size": 9
                  },
                  "textposition": "outside",
                  "type": "bar",
                  "x": [
                    "<b>Step 1.</b>",
                    "<b>Step 2.</b>"
                  ],
                  "xaxis": "x",
                  "y": [
                    100,
                    1
                  ],
                  "yaxis": "y"
                },
                {
                  "alignmentgroup": "True",
                  "customdata": [
                    [
                      "<b>Step: </b><b>Step 1.</b><br /><b>Group: </b>fr<br /><br /><b>Conversion rate: </b>100.0 %<br /><b>User count: </b>3528"
                    ],
                    [
                      "<b>Step: </b><b>Step 2.</b><br /><b>Group: </b>fr<br /><br /><b>Conversion rate: </b>1.2 %<br /><b>User count: </b>43"
                    ]
                  ],
                  "hovertemplate": "%{customdata[0]} <extra></extra>",
                  "legendgroup": "fr",
                  "marker": {
                    "color": "rgb(225, 124, 5)",
                    "pattern": {
                      "shape": ""
                    }
                  },
                  "name": "fr",
                  "offsetgroup": "fr",
                  "orientation": "v",
                  "showlegend": true,
                  "text": [
                    "100.0 %",
                    "1.2 %"
                  ],
                  "textfont": {
                    "size": 9
                  },
                  "textposition": "outside",
                  "type": "bar",
                  "x": [
                    "<b>Step 1.</b>",
                    "<b>Step 2.</b>"
                  ],
                  "xaxis": "x",
                  "y": [
                    100,
                    1.2
                  ],
                  "yaxis": "y"
                },
                {
                  "alignmentgroup": "True",
                  "customdata": [
                    [
                      "<b>Step: </b><b>Step 1.</b><br /><b>Group: </b>gb<br /><br /><b>Conversion rate: </b>100.0 %<br /><b>User count: </b>3514"
                    ],
                    [
                      "<b>Step: </b><b>Step 2.</b><br /><b>Group: </b>gb<br /><br /><b>Conversion rate: </b>1.7 %<br /><b>User count: </b>59"
                    ]
                  ],
                  "hovertemplate": "%{customdata[0]} <extra></extra>",
                  "legendgroup": "gb",
                  "marker": {
                    "color": "rgb(56, 166, 165)",
                    "pattern": {
                      "shape": ""
                    }
                  },
                  "name": "gb",
                  "offsetgroup": "gb",
                  "orientation": "v",
                  "showlegend": true,
                  "text": [
                    "100.0 %",
                    "1.7 %"
                  ],
                  "textfont": {
                    "size": 9
                  },
                  "textposition": "outside",
                  "type": "bar",
                  "x": [
                    "<b>Step 1.</b>",
                    "<b>Step 2.</b>"
                  ],
                  "xaxis": "x",
                  "y": [
                    100,
                    1.7
                  ],
                  "yaxis": "y"
                },
                {
                  "alignmentgroup": "True",
                  "customdata": [
                    [
                      "<b>Step: </b><b>Step 1.</b><br /><b>Group: </b>hu<br /><br /><b>Conversion rate: </b>100.0 %<br /><b>User count: </b>3469"
                    ],
                    [
                      "<b>Step: </b><b>Step 2.</b><br /><b>Group: </b>hu<br /><br /><b>Conversion rate: </b>1.2 %<br /><b>User count: </b>42"
                    ]
                  ],
                  "hovertemplate": "%{customdata[0]} <extra></extra>",
                  "legendgroup": "hu",
                  "marker": {
                    "color": "rgb(204, 80, 62)",
                    "pattern": {
                      "shape": ""
                    }
                  },
                  "name": "hu",
                  "offsetgroup": "hu",
                  "orientation": "v",
                  "showlegend": true,
                  "text": [
                    "100.0 %",
                    "1.2 %"
                  ],
                  "textfont": {
                    "size": 9
                  },
                  "textposition": "outside",
                  "type": "bar",
                  "x": [
                    "<b>Step 1.</b>",
                    "<b>Step 2.</b>"
                  ],
                  "xaxis": "x",
                  "y": [
                    100,
                    1.2
                  ],
                  "yaxis": "y"
                },
                {
                  "alignmentgroup": "True",
                  "customdata": [
                    [
                      "<b>Step: </b><b>Step 1.</b><br /><b>Group: </b>us<br /><br /><b>Conversion rate: </b>100.0 %<br /><b>User count: </b>3485"
                    ],
                    [
                      "<b>Step: </b><b>Step 2.</b><br /><b>Group: </b>us<br /><br /><b>Conversion rate: </b>1.0 %<br /><b>User count: </b>36"
                    ]
                  ],
                  "hovertemplate": "%{customdata[0]} <extra></extra>",
                  "legendgroup": "us",
                  "marker": {
                    "color": "rgb(15, 133, 84)",
                    "pattern": {
                      "shape": ""
                    }
                  },
                  "name": "us",
                  "offsetgroup": "us",
                  "orientation": "v",
                  "showlegend": true,
                  "text": [
                    "100.0 %",
                    "1.0 %"
                  ],
                  "textfont": {
                    "size": 9
                  },
                  "textposition": "outside",
                  "type": "bar",
                  "x": [
                    "<b>Step 1.</b>",
                    "<b>Step 2.</b>"
                  ],
                  "xaxis": "x",
                  "y": [
                    100,
                    1
                  ],
                  "yaxis": "y"
                }
              ],
              "layout": {
                "autosize": true,
                "bargap": 0.3,
                "bargroupgap": 0.15,
                "barmode": "group",
                "hoverlabel": {
                  "font": {
                    "size": 12
                  }
                },
                "hovermode": "closest",
                "legend": {
                  "orientation": "h",
                  "title": {
                    "text": "User Properties.Country Code"
                  },
                  "tracegroupgap": 0,
                  "x": 0,
                  "xanchor": "left",
                  "y": -0.2,
                  "yanchor": "bottom"
                },
                "margin": {
                  "b": 1,
                  "l": 1,
                  "pad": 0,
                  "r": 1,
                  "t": 120
                },
                "paper_bgcolor": "rgba(0, 0, 0, 0)",
                "plot_bgcolor": "rgba(0, 0, 0, 0)",
                "showlegend": true,
                "template": {
                  "data": {
                    "bar": [
                      {
                        "error_x": {
                          "color": "#2a3f5f"
                        },
                        "error_y": {
                          "color": "#2a3f5f"
                        },
                        "marker": {
                          "line": {
                            "color": "#E5ECF6",
                            "width": 0.5
                          },
                          "pattern": {
                            "fillmode": "overlay",
                            "size": 10,
                            "solidity": 0.2
                          }
                        },
                        "type": "bar"
                      }
                    ],
                    "barpolar": [
                      {
                        "marker": {
                          "line": {
                            "color": "#E5ECF6",
                            "width": 0.5
                          },
                          "pattern": {
                            "fillmode": "overlay",
                            "size": 10,
                            "solidity": 0.2
                          }
                        },
                        "type": "barpolar"
                      }
                    ],
                    "carpet": [
                      {
                        "aaxis": {
                          "endlinecolor": "#2a3f5f",
                          "gridcolor": "white",
                          "linecolor": "white",
                          "minorgridcolor": "white",
                          "startlinecolor": "#2a3f5f"
                        },
                        "baxis": {
                          "endlinecolor": "#2a3f5f",
                          "gridcolor": "white",
                          "linecolor": "white",
                          "minorgridcolor": "white",
                          "startlinecolor": "#2a3f5f"
                        },
                        "type": "carpet"
                      }
                    ],
                    "choropleth": [
                      {
                        "colorbar": {
                          "outlinewidth": 0,
                          "ticks": ""
                        },
                        "type": "choropleth"
                      }
                    ],
                    "contour": [
                      {
                        "colorbar": {
                          "outlinewidth": 0,
                          "ticks": ""
                        },
                        "colorscale": [
                          [
                            0,
                            "#0d0887"
                          ],
                          [
                            0.1111111111111111,
                            "#46039f"
                          ],
                          [
                            0.2222222222222222,
                            "#7201a8"
                          ],
                          [
                            0.3333333333333333,
                            "#9c179e"
                          ],
                          [
                            0.4444444444444444,
                            "#bd3786"
                          ],
                          [
                            0.5555555555555556,
                            "#d8576b"
                          ],
                          [
                            0.6666666666666666,
                            "#ed7953"
                          ],
                          [
                            0.7777777777777778,
                            "#fb9f3a"
                          ],
                          [
                            0.8888888888888888,
                            "#fdca26"
                          ],
                          [
                            1,
                            "#f0f921"
                          ]
                        ],
                        "type": "contour"
                      }
                    ],
                    "contourcarpet": [
                      {
                        "colorbar": {
                          "outlinewidth": 0,
                          "ticks": ""
                        },
                        "type": "contourcarpet"
                      }
                    ],
                    "heatmap": [
                      {
                        "colorbar": {
                          "outlinewidth": 0,
                          "ticks": ""
                        },
                        "colorscale": [
                          [
                            0,
                            "#0d0887"
                          ],
                          [
                            0.1111111111111111,
                            "#46039f"
                          ],
                          [
                            0.2222222222222222,
                            "#7201a8"
                          ],
                          [
                            0.3333333333333333,
                            "#9c179e"
                          ],
                          [
                            0.4444444444444444,
                            "#bd3786"
                          ],
                          [
                            0.5555555555555556,
                            "#d8576b"
                          ],
                          [
                            0.6666666666666666,
                            "#ed7953"
                          ],
                          [
                            0.7777777777777778,
                            "#fb9f3a"
                          ],
                          [
                            0.8888888888888888,
                            "#fdca26"
                          ],
                          [
                            1,
                            "#f0f921"
                          ]
                        ],
                        "type": "heatmap"
                      }
                    ],
                    "heatmapgl": [
                      {
                        "colorbar": {
                          "outlinewidth": 0,
                          "ticks": ""
                        },
                        "colorscale": [
                          [
                            0,
                            "#0d0887"
                          ],
                          [
                            0.1111111111111111,
                            "#46039f"
                          ],
                          [
                            0.2222222222222222,
                            "#7201a8"
                          ],
                          [
                            0.3333333333333333,
                            "#9c179e"
                          ],
                          [
                            0.4444444444444444,
                            "#bd3786"
                          ],
                          [
                            0.5555555555555556,
                            "#d8576b"
                          ],
                          [
                            0.6666666666666666,
                            "#ed7953"
                          ],
                          [
                            0.7777777777777778,
                            "#fb9f3a"
                          ],
                          [
                            0.8888888888888888,
                            "#fdca26"
                          ],
                          [
                            1,
                            "#f0f921"
                          ]
                        ],
                        "type": "heatmapgl"
                      }
                    ],
                    "histogram": [
                      {
                        "marker": {
                          "pattern": {
                            "fillmode": "overlay",
                            "size": 10,
                            "solidity": 0.2
                          }
                        },
                        "type": "histogram"
                      }
                    ],
                    "histogram2d": [
                      {
                        "colorbar": {
                          "outlinewidth": 0,
                          "ticks": ""
                        },
                        "colorscale": [
                          [
                            0,
                            "#0d0887"
                          ],
                          [
                            0.1111111111111111,
                            "#46039f"
                          ],
                          [
                            0.2222222222222222,
                            "#7201a8"
                          ],
                          [
                            0.3333333333333333,
                            "#9c179e"
                          ],
                          [
                            0.4444444444444444,
                            "#bd3786"
                          ],
                          [
                            0.5555555555555556,
                            "#d8576b"
                          ],
                          [
                            0.6666666666666666,
                            "#ed7953"
                          ],
                          [
                            0.7777777777777778,
                            "#fb9f3a"
                          ],
                          [
                            0.8888888888888888,
                            "#fdca26"
                          ],
                          [
                            1,
                            "#f0f921"
                          ]
                        ],
                        "type": "histogram2d"
                      }
                    ],
                    "histogram2dcontour": [
                      {
                        "colorbar": {
                          "outlinewidth": 0,
                          "ticks": ""
                        },
                        "colorscale": [
                          [
                            0,
                            "#0d0887"
                          ],
                          [
                            0.1111111111111111,
                            "#46039f"
                          ],
                          [
                            0.2222222222222222,
                            "#7201a8"
                          ],
                          [
                            0.3333333333333333,
                            "#9c179e"
                          ],
                          [
                            0.4444444444444444,
                            "#bd3786"
                          ],
                          [
                            0.5555555555555556,
                            "#d8576b"
                          ],
                          [
                            0.6666666666666666,
                            "#ed7953"
                          ],
                          [
                            0.7777777777777778,
                            "#fb9f3a"
                          ],
                          [
                            0.8888888888888888,
                            "#fdca26"
                          ],
                          [
                            1,
                            "#f0f921"
                          ]
                        ],
                        "type": "histogram2dcontour"
                      }
                    ],
                    "mesh3d": [
                      {
                        "colorbar": {
                          "outlinewidth": 0,
                          "ticks": ""
                        },
                        "type": "mesh3d"
                      }
                    ],
                    "parcoords": [
                      {
                        "line": {
                          "colorbar": {
                            "outlinewidth": 0,
                            "ticks": ""
                          }
                        },
                        "type": "parcoords"
                      }
                    ],
                    "pie": [
                      {
                        "automargin": true,
                        "type": "pie"
                      }
                    ],
                    "scatter": [
                      {
                        "marker": {
                          "colorbar": {
                            "outlinewidth": 0,
                            "ticks": ""
                          }
                        },
                        "type": "scatter"
                      }
                    ],
                    "scatter3d": [
                      {
                        "line": {
                          "colorbar": {
                            "outlinewidth": 0,
                            "ticks": ""
                          }
                        },
                        "marker": {
                          "colorbar": {
                            "outlinewidth": 0,
                            "ticks": ""
                          }
                        },
                        "type": "scatter3d"
                      }
                    ],
                    "scattercarpet": [
                      {
                        "marker": {
                          "colorbar": {
                            "outlinewidth": 0,
                            "ticks": ""
                          }
                        },
                        "type": "scattercarpet"
                      }
                    ],
                    "scattergeo": [
                      {
                        "marker": {
                          "colorbar": {
                            "outlinewidth": 0,
                            "ticks": ""
                          }
                        },
                        "type": "scattergeo"
                      }
                    ],
                    "scattergl": [
                      {
                        "marker": {
                          "colorbar": {
                            "outlinewidth": 0,
                            "ticks": ""
                          }
                        },
                        "type": "scattergl"
                      }
                    ],
                    "scattermapbox": [
                      {
                        "marker": {
                          "colorbar": {
                            "outlinewidth": 0,
                            "ticks": ""
                          }
                        },
                        "type": "scattermapbox"
                      }
                    ],
                    "scatterpolar": [
                      {
                        "marker": {
                          "colorbar": {
                            "outlinewidth": 0,
                            "ticks": ""
                          }
                        },
                        "type": "scatterpolar"
                      }
                    ],
                    "scatterpolargl": [
                      {
                        "marker": {
                          "colorbar": {
                            "outlinewidth": 0,
                            "ticks": ""
                          }
                        },
                        "type": "scatterpolargl"
                      }
                    ],
                    "scatterternary": [
                      {
                        "marker": {
                          "colorbar": {
                            "outlinewidth": 0,
                            "ticks": ""
                          }
                        },
                        "type": "scatterternary"
                      }
                    ],
                    "surface": [
                      {
                        "colorbar": {
                          "outlinewidth": 0,
                          "ticks": ""
                        },
                        "colorscale": [
                          [
                            0,
                            "#0d0887"
                          ],
                          [
                            0.1111111111111111,
                            "#46039f"
                          ],
                          [
                            0.2222222222222222,
                            "#7201a8"
                          ],
                          [
                            0.3333333333333333,
                            "#9c179e"
                          ],
                          [
                            0.4444444444444444,
                            "#bd3786"
                          ],
                          [
                            0.5555555555555556,
                            "#d8576b"
                          ],
                          [
                            0.6666666666666666,
                            "#ed7953"
                          ],
                          [
                            0.7777777777777778,
                            "#fb9f3a"
                          ],
                          [
                            0.8888888888888888,
                            "#fdca26"
                          ],
                          [
                            1,
                            "#f0f921"
                          ]
                        ],
                        "type": "surface"
                      }
                    ],
                    "table": [
                      {
                        "cells": {
                          "fill": {
                            "color": "#EBF0F8"
                          },
                          "line": {
                            "color": "white"
                          }
                        },
                        "header": {
                          "fill": {
                            "color": "#C8D4E3"
                          },
                          "line": {
                            "color": "white"
                          }
                        },
                        "type": "table"
                      }
                    ]
                  },
                  "layout": {
                    "annotationdefaults": {
                      "arrowcolor": "#2a3f5f",
                      "arrowhead": 0,
                      "arrowwidth": 1
                    },
                    "autotypenumbers": "strict",
                    "coloraxis": {
                      "colorbar": {
                        "outlinewidth": 0,
                        "ticks": ""
                      }
                    },
                    "colorscale": {
                      "diverging": [
                        [
                          0,
                          "#8e0152"
                        ],
                        [
                          0.1,
                          "#c51b7d"
                        ],
                        [
                          0.2,
                          "#de77ae"
                        ],
                        [
                          0.3,
                          "#f1b6da"
                        ],
                        [
                          0.4,
                          "#fde0ef"
                        ],
                        [
                          0.5,
                          "#f7f7f7"
                        ],
                        [
                          0.6,
                          "#e6f5d0"
                        ],
                        [
                          0.7,
                          "#b8e186"
                        ],
                        [
                          0.8,
                          "#7fbc41"
                        ],
                        [
                          0.9,
                          "#4d9221"
                        ],
                        [
                          1,
                          "#276419"
                        ]
                      ],
                      "sequential": [
                        [
                          0,
                          "#0d0887"
                        ],
                        [
                          0.1111111111111111,
                          "#46039f"
                        ],
                        [
                          0.2222222222222222,
                          "#7201a8"
                        ],
                        [
                          0.3333333333333333,
                          "#9c179e"
                        ],
                        [
                          0.4444444444444444,
                          "#bd3786"
                        ],
                        [
                          0.5555555555555556,
                          "#d8576b"
                        ],
                        [
                          0.6666666666666666,
                          "#ed7953"
                        ],
                        [
                          0.7777777777777778,
                          "#fb9f3a"
                        ],
                        [
                          0.8888888888888888,
                          "#fdca26"
                        ],
                        [
                          1,
                          "#f0f921"
                        ]
                      ],
                      "sequentialminus": [
                        [
                          0,
                          "#0d0887"
                        ],
                        [
                          0.1111111111111111,
                          "#46039f"
                        ],
                        [
                          0.2222222222222222,
                          "#7201a8"
                        ],
                        [
                          0.3333333333333333,
                          "#9c179e"
                        ],
                        [
                          0.4444444444444444,
                          "#bd3786"
                        ],
                        [
                          0.5555555555555556,
                          "#d8576b"
                        ],
                        [
                          0.6666666666666666,
                          "#ed7953"
                        ],
                        [
                          0.7777777777777778,
                          "#fb9f3a"
                        ],
                        [
                          0.8888888888888888,
                          "#fdca26"
                        ],
                        [
                          1,
                          "#f0f921"
                        ]
                      ]
                    },
                    "colorway": [
                      "#636efa",
                      "#EF553B",
                      "#00cc96",
                      "#ab63fa",
                      "#FFA15A",
                      "#19d3f3",
                      "#FF6692",
                      "#B6E880",
                      "#FF97FF",
                      "#FECB52"
                    ],
                    "font": {
                      "color": "#2a3f5f"
                    },
                    "geo": {
                      "bgcolor": "white",
                      "lakecolor": "white",
                      "landcolor": "#E5ECF6",
                      "showlakes": true,
                      "showland": true,
                      "subunitcolor": "white"
                    },
                    "hoverlabel": {
                      "align": "left"
                    },
                    "hovermode": "closest",
                    "mapbox": {
                      "style": "light"
                    },
                    "paper_bgcolor": "white",
                    "plot_bgcolor": "#E5ECF6",
                    "polar": {
                      "angularaxis": {
                        "gridcolor": "white",
                        "linecolor": "white",
                        "ticks": ""
                      },
                      "bgcolor": "#E5ECF6",
                      "radialaxis": {
                        "gridcolor": "white",
                        "linecolor": "white",
                        "ticks": ""
                      }
                    },
                    "scene": {
                      "xaxis": {
                        "backgroundcolor": "#E5ECF6",
                        "gridcolor": "white",
                        "gridwidth": 2,
                        "linecolor": "white",
                        "showbackground": true,
                        "ticks": "",
                        "zerolinecolor": "white"
                      },
                      "yaxis": {
                        "backgroundcolor": "#E5ECF6",
                        "gridcolor": "white",
                        "gridwidth": 2,
                        "linecolor": "white",
                        "showbackground": true,
                        "ticks": "",
                        "zerolinecolor": "white"
                      },
                      "zaxis": {
                        "backgroundcolor": "#E5ECF6",
                        "gridcolor": "white",
                        "gridwidth": 2,
                        "linecolor": "white",
                        "showbackground": true,
                        "ticks": "",
                        "zerolinecolor": "white"
                      }
                    },
                    "shapedefaults": {
                      "line": {
                        "color": "#2a3f5f"
                      }
                    },
                    "ternary": {
                      "aaxis": {
                        "gridcolor": "white",
                        "linecolor": "white",
                        "ticks": ""
                      },
                      "baxis": {
                        "gridcolor": "white",
                        "linecolor": "white",
                        "ticks": ""
                      },
                      "bgcolor": "#E5ECF6",
                      "caxis": {
                        "gridcolor": "white",
                        "linecolor": "white",
                        "ticks": ""
                      }
                    },
                    "title": {
                      "x": 0.05
                    },
                    "xaxis": {
                      "automargin": true,
                      "gridcolor": "white",
                      "linecolor": "white",
                      "ticks": "",
                      "title": {
                        "standoff": 15
                      },
                      "zerolinecolor": "white",
                      "zerolinewidth": 2
                    },
                    "yaxis": {
                      "automargin": true,
                      "gridcolor": "white",
                      "linecolor": "white",
                      "ticks": "",
                      "title": {
                        "standoff": 15
                      },
                      "zerolinecolor": "white",
                      "zerolinewidth": 2
                    }
                  }
                },
                "title": {
                  "font": {
                    "size": 14
                  },
                  "text": "Conversion rate<br />who did <b>page_visit</b> then did <b>checkout</b><br />within 3 weeks, grouped by <b>country_code</b> (top 10)<br />latest 120 days",
                  "x": 0.5,
                  "xanchor": "center",
                  "yanchor": "top"
                },
                "uniformtext": {
                  "minsize": 7
                },
                "xaxis": {
                  "anchor": "y",
                  "autorange": true,
                  "domain": [
                    0,
                    1
                  ],
                  "fixedrange": true,
                  "gridcolor": "rgba(127,127,127,0.3)",
                  "linecolor": "rgba(127,127,127,0.3)",
                  "range": [
                    -0.5,
                    1.5
                  ],
                  "rangemode": "tozero",
                  "showgrid": false,
                  "showline": true,
                  "title": {
                    "text": ""
                  },
                  "type": "category"
                },
                "yaxis": {
                  "anchor": "x",
                  "autorange": true,
                  "domain": [
                    0,
                    1
                  ],
                  "fixedrange": true,
                  "gridcolor": "rgba(127,127,127,0.1)",
                  "linecolor": "rgba(127,127,127,0.1)",
                  "range": [
                    0,
                    105.26315789473685
                  ],
                  "rangemode": "tozero",
                  "showline": true,
                  "ticksuffix": "%",
                  "title": {
                    "text": "Conversion rate"
                  },
                  "type": "linear"
                }
              }
            },
            "image/png": "[encoded data removed]",
            "text/html": [
              "<div>                            <div id=\"5ecb620e-96f3-4325-9c6a-82357cff8cc7\" class=\"plotly-graph-div\" style=\"height:600px; width:100%;\"></div>            <script type=\"text/javascript\">                require([\"plotly\"], function(Plotly) {                    window.PLOTLYENV=window.PLOTLYENV || {};                                    if (document.getElementById(\"5ecb620e-96f3-4325-9c6a-82357cff8cc7\")) {                    Plotly.newPlot(                        \"5ecb620e-96f3-4325-9c6a-82357cff8cc7\",                        [{\"alignmentgroup\":\"True\",\"customdata\":[[\"<b>Step: </b><b>Step 1.</b><br /><b>Group: </b>br<br /><br /><b>Conversion rate: </b>100.0 %<br /><b>User count: </b>3517\"],[\"<b>Step: </b><b>Step 2.</b><br /><b>Group: </b>br<br /><br /><b>Conversion rate: </b>1.0 %<br /><b>User count: </b>36\"]],\"hovertemplate\":\"%{customdata[0]} <extra></extra>\",\"legendgroup\":\"br\",\"marker\":{\"color\":\"rgb(95, 70, 144)\",\"pattern\":{\"shape\":\"\"}},\"name\":\"br\",\"offsetgroup\":\"br\",\"orientation\":\"v\",\"showlegend\":true,\"text\":[\"100.0 %\",\"1.0 %\"],\"textposition\":\"outside\",\"x\":[\"<b>Step 1.</b>\",\"<b>Step 2.</b>\"],\"xaxis\":\"x\",\"y\":[100.0,1.0],\"yaxis\":\"y\",\"type\":\"bar\",\"textfont\":{\"size\":9}},{\"alignmentgroup\":\"True\",\"customdata\":[[\"<b>Step: </b><b>Step 1.</b><br /><b>Group: </b>cn<br /><br /><b>Conversion rate: </b>100.0 %<br /><b>User count: </b>3420\"],[\"<b>Step: </b><b>Step 2.</b><br /><b>Group: </b>cn<br /><br /><b>Conversion rate: </b>1.2 %<br /><b>User count: </b>42\"]],\"hovertemplate\":\"%{customdata[0]} <extra></extra>\",\"legendgroup\":\"cn\",\"marker\":{\"color\":\"rgb(237, 173, 8)\",\"pattern\":{\"shape\":\"\"}},\"name\":\"cn\",\"offsetgroup\":\"cn\",\"orientation\":\"v\",\"showlegend\":true,\"text\":[\"100.0 %\",\"1.2 %\"],\"textposition\":\"outside\",\"x\":[\"<b>Step 1.</b>\",\"<b>Step 2.</b>\"],\"xaxis\":\"x\",\"y\":[100.0,1.2],\"yaxis\":\"y\",\"type\":\"bar\",\"textfont\":{\"size\":9}},{\"alignmentgroup\":\"True\",\"customdata\":[[\"<b>Step: </b><b>Step 1.</b><br /><b>Group: </b>de<br /><br /><b>Conversion rate: </b>100.0 %<br /><b>User count: </b>3412\"],[\"<b>Step: </b><b>Step 2.</b><br /><b>Group: </b>de<br /><br /><b>Conversion rate: </b>1.0 %<br /><b>User count: </b>33\"]],\"hovertemplate\":\"%{customdata[0]} <extra></extra>\",\"legendgroup\":\"de\",\"marker\":{\"color\":\"rgb(29, 105, 150)\",\"pattern\":{\"shape\":\"\"}},\"name\":\"de\",\"offsetgroup\":\"de\",\"orientation\":\"v\",\"showlegend\":true,\"text\":[\"100.0 %\",\"1.0 %\"],\"textposition\":\"outside\",\"x\":[\"<b>Step 1.</b>\",\"<b>Step 2.</b>\"],\"xaxis\":\"x\",\"y\":[100.0,1.0],\"yaxis\":\"y\",\"type\":\"bar\",\"textfont\":{\"size\":9}},{\"alignmentgroup\":\"True\",\"customdata\":[[\"<b>Step: </b><b>Step 1.</b><br /><b>Group: </b>fr<br /><br /><b>Conversion rate: </b>100.0 %<br /><b>User count: </b>3528\"],[\"<b>Step: </b><b>Step 2.</b><br /><b>Group: </b>fr<br /><br /><b>Conversion rate: </b>1.2 %<br /><b>User count: </b>43\"]],\"hovertemplate\":\"%{customdata[0]} <extra></extra>\",\"legendgroup\":\"fr\",\"marker\":{\"color\":\"rgb(225, 124, 5)\",\"pattern\":{\"shape\":\"\"}},\"name\":\"fr\",\"offsetgroup\":\"fr\",\"orientation\":\"v\",\"showlegend\":true,\"text\":[\"100.0 %\",\"1.2 %\"],\"textposition\":\"outside\",\"x\":[\"<b>Step 1.</b>\",\"<b>Step 2.</b>\"],\"xaxis\":\"x\",\"y\":[100.0,1.2],\"yaxis\":\"y\",\"type\":\"bar\",\"textfont\":{\"size\":9}},{\"alignmentgroup\":\"True\",\"customdata\":[[\"<b>Step: </b><b>Step 1.</b><br /><b>Group: </b>gb<br /><br /><b>Conversion rate: </b>100.0 %<br /><b>User count: </b>3514\"],[\"<b>Step: </b><b>Step 2.</b><br /><b>Group: </b>gb<br /><br /><b>Conversion rate: </b>1.7 %<br /><b>User count: </b>59\"]],\"hovertemplate\":\"%{customdata[0]} <extra></extra>\",\"legendgroup\":\"gb\",\"marker\":{\"color\":\"rgb(56, 166, 165)\",\"pattern\":{\"shape\":\"\"}},\"name\":\"gb\",\"offsetgroup\":\"gb\",\"orientation\":\"v\",\"showlegend\":true,\"text\":[\"100.0 %\",\"1.7 %\"],\"textposition\":\"outside\",\"x\":[\"<b>Step 1.</b>\",\"<b>Step 2.</b>\"],\"xaxis\":\"x\",\"y\":[100.0,1.7],\"yaxis\":\"y\",\"type\":\"bar\",\"textfont\":{\"size\":9}},{\"alignmentgroup\":\"True\",\"customdata\":[[\"<b>Step: </b><b>Step 1.</b><br /><b>Group: </b>hu<br /><br /><b>Conversion rate: </b>100.0 %<br /><b>User count: </b>3469\"],[\"<b>Step: </b><b>Step 2.</b><br /><b>Group: </b>hu<br /><br /><b>Conversion rate: </b>1.2 %<br /><b>User count: </b>42\"]],\"hovertemplate\":\"%{customdata[0]} <extra></extra>\",\"legendgroup\":\"hu\",\"marker\":{\"color\":\"rgb(204, 80, 62)\",\"pattern\":{\"shape\":\"\"}},\"name\":\"hu\",\"offsetgroup\":\"hu\",\"orientation\":\"v\",\"showlegend\":true,\"text\":[\"100.0 %\",\"1.2 %\"],\"textposition\":\"outside\",\"x\":[\"<b>Step 1.</b>\",\"<b>Step 2.</b>\"],\"xaxis\":\"x\",\"y\":[100.0,1.2],\"yaxis\":\"y\",\"type\":\"bar\",\"textfont\":{\"size\":9}},{\"alignmentgroup\":\"True\",\"customdata\":[[\"<b>Step: </b><b>Step 1.</b><br /><b>Group: </b>us<br /><br /><b>Conversion rate: </b>100.0 %<br /><b>User count: </b>3485\"],[\"<b>Step: </b><b>Step 2.</b><br /><b>Group: </b>us<br /><br /><b>Conversion rate: </b>1.0 %<br /><b>User count: </b>36\"]],\"hovertemplate\":\"%{customdata[0]} <extra></extra>\",\"legendgroup\":\"us\",\"marker\":{\"color\":\"rgb(15, 133, 84)\",\"pattern\":{\"shape\":\"\"}},\"name\":\"us\",\"offsetgroup\":\"us\",\"orientation\":\"v\",\"showlegend\":true,\"text\":[\"100.0 %\",\"1.0 %\"],\"textposition\":\"outside\",\"x\":[\"<b>Step 1.</b>\",\"<b>Step 2.</b>\"],\"xaxis\":\"x\",\"y\":[100.0,1.0],\"yaxis\":\"y\",\"type\":\"bar\",\"textfont\":{\"size\":9}}],                        {\"template\":{\"data\":{\"bar\":[{\"error_x\":{\"color\":\"#2a3f5f\"},\"error_y\":{\"color\":\"#2a3f5f\"},\"marker\":{\"line\":{\"color\":\"#E5ECF6\",\"width\":0.5},\"pattern\":{\"fillmode\":\"overlay\",\"size\":10,\"solidity\":0.2}},\"type\":\"bar\"}],\"barpolar\":[{\"marker\":{\"line\":{\"color\":\"#E5ECF6\",\"width\":0.5},\"pattern\":{\"fillmode\":\"overlay\",\"size\":10,\"solidity\":0.2}},\"type\":\"barpolar\"}],\"carpet\":[{\"aaxis\":{\"endlinecolor\":\"#2a3f5f\",\"gridcolor\":\"white\",\"linecolor\":\"white\",\"minorgridcolor\":\"white\",\"startlinecolor\":\"#2a3f5f\"},\"baxis\":{\"endlinecolor\":\"#2a3f5f\",\"gridcolor\":\"white\",\"linecolor\":\"white\",\"minorgridcolor\":\"white\",\"startlinecolor\":\"#2a3f5f\"},\"type\":\"carpet\"}],\"choropleth\":[{\"colorbar\":{\"outlinewidth\":0,\"ticks\":\"\"},\"type\":\"choropleth\"}],\"contour\":[{\"colorbar\":{\"outlinewidth\":0,\"ticks\":\"\"},\"colorscale\":[[0.0,\"#0d0887\"],[0.1111111111111111,\"#46039f\"],[0.2222222222222222,\"#7201a8\"],[0.3333333333333333,\"#9c179e\"],[0.4444444444444444,\"#bd3786\"],[0.5555555555555556,\"#d8576b\"],[0.6666666666666666,\"#ed7953\"],[0.7777777777777778,\"#fb9f3a\"],[0.8888888888888888,\"#fdca26\"],[1.0,\"#f0f921\"]],\"type\":\"contour\"}],\"contourcarpet\":[{\"colorbar\":{\"outlinewidth\":0,\"ticks\":\"\"},\"type\":\"contourcarpet\"}],\"heatmap\":[{\"colorbar\":{\"outlinewidth\":0,\"ticks\":\"\"},\"colorscale\":[[0.0,\"#0d0887\"],[0.1111111111111111,\"#46039f\"],[0.2222222222222222,\"#7201a8\"],[0.3333333333333333,\"#9c179e\"],[0.4444444444444444,\"#bd3786\"],[0.5555555555555556,\"#d8576b\"],[0.6666666666666666,\"#ed7953\"],[0.7777777777777778,\"#fb9f3a\"],[0.8888888888888888,\"#fdca26\"],[1.0,\"#f0f921\"]],\"type\":\"heatmap\"}],\"heatmapgl\":[{\"colorbar\":{\"outlinewidth\":0,\"ticks\":\"\"},\"colorscale\":[[0.0,\"#0d0887\"],[0.1111111111111111,\"#46039f\"],[0.2222222222222222,\"#7201a8\"],[0.3333333333333333,\"#9c179e\"],[0.4444444444444444,\"#bd3786\"],[0.5555555555555556,\"#d8576b\"],[0.6666666666666666,\"#ed7953\"],[0.7777777777777778,\"#fb9f3a\"],[0.8888888888888888,\"#fdca26\"],[1.0,\"#f0f921\"]],\"type\":\"heatmapgl\"}],\"histogram\":[{\"marker\":{\"pattern\":{\"fillmode\":\"overlay\",\"size\":10,\"solidity\":0.2}},\"type\":\"histogram\"}],\"histogram2d\":[{\"colorbar\":{\"outlinewidth\":0,\"ticks\":\"\"},\"colorscale\":[[0.0,\"#0d0887\"],[0.1111111111111111,\"#46039f\"],[0.2222222222222222,\"#7201a8\"],[0.3333333333333333,\"#9c179e\"],[0.4444444444444444,\"#bd3786\"],[0.5555555555555556,\"#d8576b\"],[0.6666666666666666,\"#ed7953\"],[0.7777777777777778,\"#fb9f3a\"],[0.8888888888888888,\"#fdca26\"],[1.0,\"#f0f921\"]],\"type\":\"histogram2d\"}],\"histogram2dcontour\":[{\"colorbar\":{\"outlinewidth\":0,\"ticks\":\"\"},\"colorscale\":[[0.0,\"#0d0887\"],[0.1111111111111111,\"#46039f\"],[0.2222222222222222,\"#7201a8\"],[0.3333333333333333,\"#9c179e\"],[0.4444444444444444,\"#bd3786\"],[0.5555555555555556,\"#d8576b\"],[0.6666666666666666,\"#ed7953\"],[0.7777777777777778,\"#fb9f3a\"],[0.8888888888888888,\"#fdca26\"],[1.0,\"#f0f921\"]],\"type\":\"histogram2dcontour\"}],\"mesh3d\":[{\"colorbar\":{\"outlinewidth\":0,\"ticks\":\"\"},\"type\":\"mesh3d\"}],\"parcoords\":[{\"line\":{\"colorbar\":{\"outlinewidth\":0,\"ticks\":\"\"}},\"type\":\"parcoords\"}],\"pie\":[{\"automargin\":true,\"type\":\"pie\"}],\"scatter\":[{\"marker\":{\"colorbar\":{\"outlinewidth\":0,\"ticks\":\"\"}},\"type\":\"scatter\"}],\"scatter3d\":[{\"line\":{\"colorbar\":{\"outlinewidth\":0,\"ticks\":\"\"}},\"marker\":{\"colorbar\":{\"outlinewidth\":0,\"ticks\":\"\"}},\"type\":\"scatter3d\"}],\"scattercarpet\":[{\"marker\":{\"colorbar\":{\"outlinewidth\":0,\"ticks\":\"\"}},\"type\":\"scattercarpet\"}],\"scattergeo\":[{\"marker\":{\"colorbar\":{\"outlinewidth\":0,\"ticks\":\"\"}},\"type\":\"scattergeo\"}],\"scattergl\":[{\"marker\":{\"colorbar\":{\"outlinewidth\":0,\"ticks\":\"\"}},\"type\":\"scattergl\"}],\"scattermapbox\":[{\"marker\":{\"colorbar\":{\"outlinewidth\":0,\"ticks\":\"\"}},\"type\":\"scattermapbox\"}],\"scatterpolar\":[{\"marker\":{\"colorbar\":{\"outlinewidth\":0,\"ticks\":\"\"}},\"type\":\"scatterpolar\"}],\"scatterpolargl\":[{\"marker\":{\"colorbar\":{\"outlinewidth\":0,\"ticks\":\"\"}},\"type\":\"scatterpolargl\"}],\"scatterternary\":[{\"marker\":{\"colorbar\":{\"outlinewidth\":0,\"ticks\":\"\"}},\"type\":\"scatterternary\"}],\"surface\":[{\"colorbar\":{\"outlinewidth\":0,\"ticks\":\"\"},\"colorscale\":[[0.0,\"#0d0887\"],[0.1111111111111111,\"#46039f\"],[0.2222222222222222,\"#7201a8\"],[0.3333333333333333,\"#9c179e\"],[0.4444444444444444,\"#bd3786\"],[0.5555555555555556,\"#d8576b\"],[0.6666666666666666,\"#ed7953\"],[0.7777777777777778,\"#fb9f3a\"],[0.8888888888888888,\"#fdca26\"],[1.0,\"#f0f921\"]],\"type\":\"surface\"}],\"table\":[{\"cells\":{\"fill\":{\"color\":\"#EBF0F8\"},\"line\":{\"color\":\"white\"}},\"header\":{\"fill\":{\"color\":\"#C8D4E3\"},\"line\":{\"color\":\"white\"}},\"type\":\"table\"}]},\"layout\":{\"annotationdefaults\":{\"arrowcolor\":\"#2a3f5f\",\"arrowhead\":0,\"arrowwidth\":1},\"autotypenumbers\":\"strict\",\"coloraxis\":{\"colorbar\":{\"outlinewidth\":0,\"ticks\":\"\"}},\"colorscale\":{\"diverging\":[[0,\"#8e0152\"],[0.1,\"#c51b7d\"],[0.2,\"#de77ae\"],[0.3,\"#f1b6da\"],[0.4,\"#fde0ef\"],[0.5,\"#f7f7f7\"],[0.6,\"#e6f5d0\"],[0.7,\"#b8e186\"],[0.8,\"#7fbc41\"],[0.9,\"#4d9221\"],[1,\"#276419\"]],\"sequential\":[[0.0,\"#0d0887\"],[0.1111111111111111,\"#46039f\"],[0.2222222222222222,\"#7201a8\"],[0.3333333333333333,\"#9c179e\"],[0.4444444444444444,\"#bd3786\"],[0.5555555555555556,\"#d8576b\"],[0.6666666666666666,\"#ed7953\"],[0.7777777777777778,\"#fb9f3a\"],[0.8888888888888888,\"#fdca26\"],[1.0,\"#f0f921\"]],\"sequentialminus\":[[0.0,\"#0d0887\"],[0.1111111111111111,\"#46039f\"],[0.2222222222222222,\"#7201a8\"],[0.3333333333333333,\"#9c179e\"],[0.4444444444444444,\"#bd3786\"],[0.5555555555555556,\"#d8576b\"],[0.6666666666666666,\"#ed7953\"],[0.7777777777777778,\"#fb9f3a\"],[0.8888888888888888,\"#fdca26\"],[1.0,\"#f0f921\"]]},\"colorway\":[\"#636efa\",\"#EF553B\",\"#00cc96\",\"#ab63fa\",\"#FFA15A\",\"#19d3f3\",\"#FF6692\",\"#B6E880\",\"#FF97FF\",\"#FECB52\"],\"font\":{\"color\":\"#2a3f5f\"},\"geo\":{\"bgcolor\":\"white\",\"lakecolor\":\"white\",\"landcolor\":\"#E5ECF6\",\"showlakes\":true,\"showland\":true,\"subunitcolor\":\"white\"},\"hoverlabel\":{\"align\":\"left\"},\"hovermode\":\"closest\",\"mapbox\":{\"style\":\"light\"},\"paper_bgcolor\":\"white\",\"plot_bgcolor\":\"#E5ECF6\",\"polar\":{\"angularaxis\":{\"gridcolor\":\"white\",\"linecolor\":\"white\",\"ticks\":\"\"},\"bgcolor\":\"#E5ECF6\",\"radialaxis\":{\"gridcolor\":\"white\",\"linecolor\":\"white\",\"ticks\":\"\"}},\"scene\":{\"xaxis\":{\"backgroundcolor\":\"#E5ECF6\",\"gridcolor\":\"white\",\"gridwidth\":2,\"linecolor\":\"white\",\"showbackground\":true,\"ticks\":\"\",\"zerolinecolor\":\"white\"},\"yaxis\":{\"backgroundcolor\":\"#E5ECF6\",\"gridcolor\":\"white\",\"gridwidth\":2,\"linecolor\":\"white\",\"showbackground\":true,\"ticks\":\"\",\"zerolinecolor\":\"white\"},\"zaxis\":{\"backgroundcolor\":\"#E5ECF6\",\"gridcolor\":\"white\",\"gridwidth\":2,\"linecolor\":\"white\",\"showbackground\":true,\"ticks\":\"\",\"zerolinecolor\":\"white\"}},\"shapedefaults\":{\"line\":{\"color\":\"#2a3f5f\"}},\"ternary\":{\"aaxis\":{\"gridcolor\":\"white\",\"linecolor\":\"white\",\"ticks\":\"\"},\"baxis\":{\"gridcolor\":\"white\",\"linecolor\":\"white\",\"ticks\":\"\"},\"bgcolor\":\"#E5ECF6\",\"caxis\":{\"gridcolor\":\"white\",\"linecolor\":\"white\",\"ticks\":\"\"}},\"title\":{\"x\":0.05},\"xaxis\":{\"automargin\":true,\"gridcolor\":\"white\",\"linecolor\":\"white\",\"ticks\":\"\",\"title\":{\"standoff\":15},\"zerolinecolor\":\"white\",\"zerolinewidth\":2},\"yaxis\":{\"automargin\":true,\"gridcolor\":\"white\",\"linecolor\":\"white\",\"ticks\":\"\",\"title\":{\"standoff\":15},\"zerolinecolor\":\"white\",\"zerolinewidth\":2}}},\"xaxis\":{\"anchor\":\"y\",\"domain\":[0.0,1.0],\"title\":{\"text\":\"\"},\"rangemode\":\"tozero\",\"showline\":true,\"linecolor\":\"rgba(127,127,127,0.3)\",\"gridcolor\":\"rgba(127,127,127,0.3)\",\"fixedrange\":true,\"showgrid\":false},\"yaxis\":{\"anchor\":\"x\",\"domain\":[0.0,1.0],\"title\":{\"text\":\"Conversion rate\"},\"ticksuffix\":\"%\",\"rangemode\":\"tozero\",\"showline\":true,\"linecolor\":\"rgba(127,127,127,0.1)\",\"gridcolor\":\"rgba(127,127,127,0.1)\",\"fixedrange\":true},\"legend\":{\"title\":{\"text\":\"User Properties.Country Code\"},\"tracegroupgap\":0,\"orientation\":\"h\",\"yanchor\":\"bottom\",\"y\":-0.2,\"xanchor\":\"left\"},\"margin\":{\"t\":120,\"l\":1,\"r\":1,\"b\":1,\"pad\":0},\"barmode\":\"group\",\"title\":{\"font\":{\"size\":14},\"text\":\"Conversion rate<br />who did <b>page_visit</b> then did <b>checkout</b><br />within 3 weeks, grouped by <b>country_code</b> (top 10)<br />latest 120 days\",\"x\":0.5,\"xanchor\":\"center\",\"yanchor\":\"top\"},\"uniformtext\":{\"minsize\":7},\"hoverlabel\":{\"font\":{\"size\":12}},\"autosize\":true,\"bargap\":0.3,\"bargroupgap\":0.15,\"height\":600,\"paper_bgcolor\":\"rgba(0,0,0,0)\",\"plot_bgcolor\":\"rgba(0,0,0,0)\",\"hovermode\":\"closest\",\"showlegend\":true},                        {\"displayModeBar\": false, \"responsive\": true}                    ).then(function(){\n",
              "                            \n",
              "var gd = document.getElementById('5ecb620e-96f3-4325-9c6a-82357cff8cc7');\n",
              "var x = new MutationObserver(function (mutations, observer) {{\n",
              "        var display = window.getComputedStyle(gd).display;\n",
              "        if (!display || display === 'none') {{\n",
              "            console.log([gd, 'removed!']);\n",
              "            Plotly.purge(gd);\n",
              "            observer.disconnect();\n",
              "        }}\n",
              "}});\n",
              "\n",
              "// Listen for the removal of the full notebook cells\n",
              "var notebookContainer = gd.closest('#notebook-container');\n",
              "if (notebookContainer) {{\n",
              "    x.observe(notebookContainer, {childList: true});\n",
              "}}\n",
              "\n",
              "// Listen for the clearing of the current output cell\n",
              "var outputEl = gd.closest('.output');\n",
              "if (outputEl) {{\n",
              "    x.observe(outputEl, {childList: true});\n",
              "}}\n",
              "\n",
              "                        })                };                });            </script>        </div>"
            ]
          },
          "metadata": {},
          "output_type": "display_data"
        },
        {
          "data": {
            "text/plain": []
          },
          "execution_count": 23,
          "metadata": {},
          "output_type": "execute_result"
        }
      ],
      "source": [
        "(m.page_visit >> m.checkout).config(time_group=\"total\", \n",
        "                                    conv_window=\"3 week\", \n",
        "                                    group_by=m.page_visit.user_properties.country_code, \n",
        "                                    lookback_days=120)"
      ]
    },
    {
      "cell_type": "code",
      "execution_count": 24,
      "id": "9e778fa4-25ec-4bea-8fba-c143faed4fb2",
      "metadata": {},
      "outputs": [
        {
          "name": "stdout",
          "output_type": "stream",
          "text": [
            "WITH anon_1 AS\n",
            "  (SELECT tiny.web_events.user_id AS _cte_user_id,\n",
            "          tiny.web_events.event_time AS _cte_datetime,\n",
            "          web_events.user_properties.country_code AS _cte_group\n",
            "   FROM tiny.web_events\n",
            "   WHERE tiny.web_events.event_name = 'page_visit'\n",
            "     AND tiny.web_events.event_time >= timestamp '2020-12-02 00:00:00'\n",
            "     AND tiny.web_events.event_time <= timestamp '2021-04-01 00:00:00'\n",
            "     AND date(tiny.web_events.event_time) >= date('2020-12-02')\n",
            "     AND date(tiny.web_events.event_time) <= date('2021-04-01')),\n",
            "     anon_2 AS\n",
            "  (SELECT tiny.web_events.user_id AS _cte_user_id,\n",
            "          tiny.web_events.event_time AS _cte_datetime,\n",
            "          NULL AS _cte_group\n",
            "   FROM tiny.web_events\n",
            "   WHERE tiny.web_events.event_name = 'checkout'\n",
            "     AND tiny.web_events.event_time >= timestamp '2020-12-02 00:00:00'\n",
            "     AND tiny.web_events.event_time <= timestamp '2021-04-22 00:00:00'\n",
            "     AND date(tiny.web_events.event_time) >= date('2020-12-02')\n",
            "     AND date(tiny.web_events.event_time) <= date('2021-04-22'))\n",
            "SELECT NULL AS _datetime,\n",
            "       anon_1._cte_group AS _group,\n",
            "       count(DISTINCT anon_1._cte_user_id) AS _user_count_1,\n",
            "       (count(DISTINCT anon_1._cte_user_id) * 100.0) / count(DISTINCT anon_1._cte_user_id) AS _agg_value_1,\n",
            "       count(DISTINCT anon_2._cte_user_id) AS _user_count_2,\n",
            "       (count(DISTINCT anon_2._cte_user_id) * 100.0) / count(DISTINCT anon_1._cte_user_id) AS _agg_value_2\n",
            "FROM anon_1\n",
            "LEFT OUTER JOIN anon_2 ON anon_1._cte_user_id = anon_2._cte_user_id\n",
            "AND anon_2._cte_datetime > anon_1._cte_datetime\n",
            "AND anon_2._cte_datetime <= date_add('week', 3, anon_1._cte_datetime)\n",
            "GROUP BY 1,\n",
            "         2\n"
          ]
        }
      ],
      "source": [
        "(m.page_visit >> m.checkout).config(time_group=\"total\", \n",
        "                                    conv_window=\"3 week\", \n",
        "                                    group_by=m.page_visit.user_properties.country_code, \n",
        "                                    lookback_days=120).print_sql()"
      ]
    },
    {
      "cell_type": "code",
      "execution_count": 26,
      "id": "359dd61f-949b-424d-8cca-e6a5f2596715",
      "metadata": {},
      "outputs": [],
      "source": [
        "# dp.display_inline_dashboard(port=8083)\n",
        "\n",
        "# or when your notebook does not support iframes\n",
        "# dp.display_external_dashboard(port=8083)"
      ]
    },
    {
      "cell_type": "code",
      "execution_count": null,
      "id": "b54e4f5a-936a-4c12-a671-7799a41b2025",
      "metadata": {},
      "outputs": [],
      "source": []
    }
  ],
  "metadata": {
    "kernelspec": {
      "display_name": "Python 3 (ipykernel)",
      "language": "python",
      "name": "python3"
    },
    "language_info": {
      "codemirror_mode": {
        "name": "ipython",
        "version": 3
      },
      "file_extension": ".py",
      "mimetype": "text/x-python",
      "name": "python",
      "nbconvert_exporter": "python",
      "pygments_lexer": "ipython3",
      "version": "3.10.8"
    },
    "vscode": {
      "interpreter": {
        "hash": "d9ca768138a812f1b0de9f7f2ec83e2ab435952c5bc6557e021ae2b01c11ef93"
      }
    }
  },
  "nbformat": 4,
  "nbformat_minor": 5
}
